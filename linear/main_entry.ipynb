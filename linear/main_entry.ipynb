{
 "metadata": {
  "language_info": {
   "codemirror_mode": {
    "name": "ipython",
    "version": 3
   },
   "file_extension": ".py",
   "mimetype": "text/x-python",
   "name": "python",
   "nbconvert_exporter": "python",
   "pygments_lexer": "ipython3",
   "version": "3.8.6-final"
  },
  "orig_nbformat": 2,
  "kernelspec": {
   "name": "python3",
   "display_name": "Python 3"
  }
 },
 "nbformat": 4,
 "nbformat_minor": 2,
 "cells": [
  {
   "source": [
    "# Custom implementation of LinearRegression\n",
    "\n",
    "\n"
   ],
   "cell_type": "markdown",
   "metadata": {}
  },
  {
   "cell_type": "code",
   "execution_count": 1,
   "metadata": {},
   "outputs": [],
   "source": [
    "%load_ext autoreload\n",
    "%autoreload 2\n",
    "\n",
    "import pandas as pd\n",
    "from sklearn.dummy import DummyRegressor\n",
    "from sklearn.metrics import mean_squared_error\n",
    "from sklearn.linear_model import LinearRegression\n",
    "from sklearn.model_selection import train_test_split\n",
    "from matric_regressor import MatrixRegressor\n",
    "from custom_linear_regression import CovarLinearRegressor"
   ]
  },
  {
   "cell_type": "code",
   "execution_count": 2,
   "metadata": {},
   "outputs": [
    {
     "output_type": "execute_result",
     "data": {
      "text/plain": [
       "           claims  total_payment\n",
       "count   62.000000      62.000000\n",
       "mean    23.274194      99.770968\n",
       "std     23.356236      87.123621\n",
       "min      2.000000       4.400000\n",
       "25%      8.000000      39.675000\n",
       "50%     14.500000      74.750000\n",
       "75%     29.000000     141.050000\n",
       "max    124.000000     422.200000"
      ],
      "text/html": "<div>\n<style scoped>\n    .dataframe tbody tr th:only-of-type {\n        vertical-align: middle;\n    }\n\n    .dataframe tbody tr th {\n        vertical-align: top;\n    }\n\n    .dataframe thead th {\n        text-align: right;\n    }\n</style>\n<table border=\"1\" class=\"dataframe\">\n  <thead>\n    <tr style=\"text-align: right;\">\n      <th></th>\n      <th>claims</th>\n      <th>total_payment</th>\n    </tr>\n  </thead>\n  <tbody>\n    <tr>\n      <th>count</th>\n      <td>62.000000</td>\n      <td>62.000000</td>\n    </tr>\n    <tr>\n      <th>mean</th>\n      <td>23.274194</td>\n      <td>99.770968</td>\n    </tr>\n    <tr>\n      <th>std</th>\n      <td>23.356236</td>\n      <td>87.123621</td>\n    </tr>\n    <tr>\n      <th>min</th>\n      <td>2.000000</td>\n      <td>4.400000</td>\n    </tr>\n    <tr>\n      <th>25%</th>\n      <td>8.000000</td>\n      <td>39.675000</td>\n    </tr>\n    <tr>\n      <th>50%</th>\n      <td>14.500000</td>\n      <td>74.750000</td>\n    </tr>\n    <tr>\n      <th>75%</th>\n      <td>29.000000</td>\n      <td>141.050000</td>\n    </tr>\n    <tr>\n      <th>max</th>\n      <td>124.000000</td>\n      <td>422.200000</td>\n    </tr>\n  </tbody>\n</table>\n</div>"
     },
     "metadata": {},
     "execution_count": 2
    }
   ],
   "source": [
    "data = pd.read_csv('AutoInsurSweden.csv')\n",
    "data = data.drop(index=data[data['claims'] == 0].index)\n",
    "data.describe()"
   ]
  },
  {
   "cell_type": "code",
   "execution_count": 3,
   "metadata": {},
   "outputs": [
    {
     "output_type": "execute_result",
     "data": {
      "text/plain": [
       "((46, 2), (16, 2))"
      ]
     },
     "metadata": {},
     "execution_count": 3
    }
   ],
   "source": [
    "target_col = 'claims'\n",
    "train, valid = train_test_split(data, test_size=0.25)\n",
    "(train.shape, valid.shape)"
   ]
  },
  {
   "cell_type": "code",
   "execution_count": 10,
   "metadata": {},
   "outputs": [
    {
     "output_type": "execute_result",
     "data": {
      "text/plain": [
       "15.551161970175928"
      ]
     },
     "metadata": {},
     "execution_count": 10
    }
   ],
   "source": [
    "def fit_and_score(model):\n",
    "\n",
    "    model.fit(train.drop(columns=target_col).values, train[target_col].values)\n",
    "    predicted = model.predict(valid.drop(target_col, axis=1).values)\n",
    "    rmse = mean_squared_error(valid[target_col].values, predicted) ** 0.5  \n",
    "    return rmse\n",
    "\n",
    "fit_and_score(LinearRegression())\n"
   ]
  },
  {
   "cell_type": "code",
   "execution_count": 5,
   "metadata": {},
   "outputs": [
    {
     "output_type": "execute_result",
     "data": {
      "text/plain": [
       "37.436895549620495"
      ]
     },
     "metadata": {},
     "execution_count": 5
    }
   ],
   "source": [
    "fit_and_score(DummyRegressor())"
   ]
  },
  {
   "cell_type": "code",
   "execution_count": 41,
   "metadata": {},
   "outputs": [
    {
     "output_type": "stream",
     "name": "stdout",
     "text": [
      "features.shape (46, 1), fit finished 19.565217391304348, [4.164498585257398e-19]\n"
     ]
    },
    {
     "output_type": "execute_result",
     "data": {
      "text/plain": [
       "32.53837889530171"
      ]
     },
     "metadata": {},
     "execution_count": 41
    }
   ],
   "source": [
    "fit_and_score(CovarLinearRegressor())"
   ]
  },
  {
   "cell_type": "code",
   "execution_count": 11,
   "metadata": {},
   "outputs": [
    {
     "output_type": "execute_result",
     "data": {
      "text/plain": [
       "14.386518386318922"
      ]
     },
     "metadata": {},
     "execution_count": 11
    }
   ],
   "source": [
    "fit_and_score(MatrixRegressor())"
   ]
  },
  {
   "cell_type": "code",
   "execution_count": null,
   "metadata": {},
   "outputs": [],
   "source": []
  }
 ]
}