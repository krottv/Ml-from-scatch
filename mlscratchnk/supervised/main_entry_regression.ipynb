{
 "metadata": {
  "language_info": {
   "codemirror_mode": {
    "name": "ipython",
    "version": 3
   },
   "file_extension": ".py",
   "mimetype": "text/x-python",
   "name": "python",
   "nbconvert_exporter": "python",
   "pygments_lexer": "ipython3",
   "version": "3.8.6-final"
  },
  "orig_nbformat": 2,
  "kernelspec": {
   "name": "python3",
   "display_name": "Python 3",
   "language": "python"
  }
 },
 "nbformat": 4,
 "nbformat_minor": 2,
 "cells": [
  {
   "source": [
    "# DesicionTreeRegressor"
   ],
   "cell_type": "markdown",
   "metadata": {}
  },
  {
   "cell_type": "code",
   "execution_count": 5,
   "metadata": {},
   "outputs": [
    {
     "output_type": "stream",
     "name": "stdout",
     "text": [
      "The autoreload extension is already loaded. To reload it, use:\n  %reload_ext autoreload\n"
     ]
    }
   ],
   "source": [
    "%load_ext autoreload\n",
    "%autoreload 2\n",
    "import numpy as np\n",
    "import pandas as pd\n",
    "from sklearn.metrics import mean_absolute_error, mean_squared_error\n",
    "from mlscratchnk.supervised.random_forest import RandomForestRegressor as CustomRandomForestRegressor\n",
    "from sklearn.tree import DecisionTreeRegressor\n",
    "from sklearn.ensemble import RandomForestRegressor\n",
    "from sklearn.dummy import DummyRegressor\n",
    "from sklearn.model_selection import train_test_split\n"
   ]
  },
  {
   "cell_type": "code",
   "execution_count": 6,
   "metadata": {},
   "outputs": [
    {
     "output_type": "execute_result",
     "data": {
      "text/plain": [
       "((379, 13), (127, 13), (379,), (127,))"
      ]
     },
     "metadata": {},
     "execution_count": 6
    }
   ],
   "source": [
    "from sklearn.datasets import load_boston\n",
    "X, y = load_boston(return_X_y=True)\n",
    "\n",
    "X_train, X_valid, y_train, y_valid = train_test_split(X, y, test_size=0.25)\n",
    "\n",
    "(X_train.shape, X_valid.shape, y_train.shape, y_valid.shape)"
   ]
  },
  {
   "cell_type": "code",
   "execution_count": 7,
   "metadata": {},
   "outputs": [],
   "source": [
    "\n",
    "def test_model(model):\n",
    "    model.fit(X_train, y_train)\n",
    "    predicted_train = model.predict(X_train)\n",
    "    predicted = model.predict(X_valid)\n",
    "    depth = model.get_depth() if hasattr(model, 'get_depth') else None\n",
    "    print(f'train score mse {mean_squared_error(y_train, predicted_train):.3f}, valid score mse {mean_squared_error(y_valid, predicted):.3f}, depth {depth}, name {model.__class__.__name__}')"
   ]
  },
  {
   "cell_type": "code",
   "execution_count": 12,
   "metadata": {
    "tags": []
   },
   "outputs": [
    {
     "output_type": "stream",
     "name": "stdout",
     "text": [
      "train score mse 19.017, valid score mse 19.583, depth 8, name DecisionTreeRegressor\nWall time: 72 ms\n"
     ]
    }
   ],
   "source": [
    "%%time\n",
    "\n",
    "from mlscratchnk.supervised.decision_tree import DecisionTreeRegressor as CustomDecisionTreeRegressor\n",
    "model = CustomDecisionTreeRegressor(max_depth=10, debug=False, criterion='mse', random_state=1, splitter='random', min_impurity_decrease=0.002, min_samples_split=10, min_samples_leaf=4)\n",
    "test_model(model)\n",
    "#visualize_tree(model)\n",
    "\n"
   ]
  },
  {
   "source": [
    "# RandomForestRegressor"
   ],
   "cell_type": "markdown",
   "metadata": {}
  },
  {
   "cell_type": "code",
   "execution_count": 9,
   "metadata": {},
   "outputs": [
    {
     "output_type": "stream",
     "name": "stdout",
     "text": [
      "train score mse 9.217, valid score mse 16.467, depth 10, name RandomForestRegressor\nWall time: 719 ms\n"
     ]
    }
   ],
   "source": [
    "%%time\n",
    "\n",
    "model = CustomRandomForestRegressor(n_estimators=10, max_features='max', max_depth=10, random_state=1, min_impurity_decrease=0.002, min_samples_split=10, min_samples_leaf=4)\n",
    "\n",
    "test_model(model)"
   ]
  },
  {
   "source": [
    "# GradientBoostingRegressor"
   ],
   "cell_type": "markdown",
   "metadata": {}
  },
  {
   "cell_type": "code",
   "execution_count": 31,
   "metadata": {},
   "outputs": [
    {
     "output_type": "stream",
     "name": "stdout",
     "text": [
      "train score mse 525.872, valid score mse 530.565, depth None, name GradientBoostingRegressor\nWall time: 234 ms\n"
     ]
    }
   ],
   "source": [
    "%%time\n",
    "\n",
    "from mlscratchnk.supervised.gradient_boost import GradientBoostingRegressor\n",
    "model = GradientBoostingRegressor(n_estimators=10, max_depth=4, random_state=1, learning_rate=1)\n",
    "\n",
    "test_model(model)"
   ]
  },
  {
   "source": [
    "## Compare with sklearn implementations"
   ],
   "cell_type": "markdown",
   "metadata": {}
  },
  {
   "cell_type": "code",
   "execution_count": 38,
   "metadata": {},
   "outputs": [
    {
     "output_type": "stream",
     "name": "stdout",
     "text": [
      "train score mse 12.729, valid score mse 16.685, depth 9, name DecisionTreeRegressor\ntrain score mse 6.957, valid score mse 12.561, depth None, name RandomForestRegressor\ntrain score mse 86.419, valid score mse 78.508, depth None, name DummyRegressor\nWall time: 34 ms\n"
     ]
    }
   ],
   "source": [
    "%%time\n",
    "\n",
    "model = DecisionTreeRegressor(max_depth=None, splitter='random', random_state=1, min_impurity_decrease=0.005, min_samples_split=10, min_samples_leaf=4, criterion='mse')\n",
    "\n",
    "test_model(model)\n",
    "\n",
    "model = RandomForestRegressor(n_estimators=10, max_depth=6, random_state=1, min_impurity_decrease=0.005, min_samples_split=10, min_samples_leaf=4)\n",
    "test_model(model)\n",
    "\n",
    "\n",
    "dummy_classifier = DummyRegressor()\n",
    "test_model(dummy_classifier)"
   ]
  },
  {
   "cell_type": "code",
   "execution_count": 51,
   "metadata": {},
   "outputs": [
    {
     "output_type": "execute_result",
     "data": {
      "text/plain": [
       "(379, 13)"
      ]
     },
     "metadata": {},
     "execution_count": 51
    }
   ],
   "source": [
    "X_train.shape"
   ]
  },
  {
   "cell_type": "code",
   "execution_count": null,
   "metadata": {},
   "outputs": [],
   "source": []
  }
 ]
}