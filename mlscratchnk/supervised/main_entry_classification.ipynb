{
 "metadata": {
  "language_info": {
   "codemirror_mode": {
    "name": "ipython",
    "version": 3
   },
   "file_extension": ".py",
   "mimetype": "text/x-python",
   "name": "python",
   "nbconvert_exporter": "python",
   "pygments_lexer": "ipython3",
   "version": "3.8.6-final"
  },
  "orig_nbformat": 2,
  "kernelspec": {
   "name": "python3",
   "display_name": "Python 3",
   "language": "python"
  }
 },
 "nbformat": 4,
 "nbformat_minor": 2,
 "cells": [
  {
   "source": [
    "# DesicionTreeClassifier\n",
    "\n",
    "Decision tree learners create biased trees if some classes dominate. It is therefore recommended to balance the dataset prior to fitting with the decision tree.\n",
    "\n",
    "Decision-tree learners can create over-complex trees that do not generalise the data well. This is called overfitting. Mechanisms such as pruning, setting the minimum number of samples required at a leaf node or setting the maximum depth of the tree are necessary to avoid this problem.\n",
    "\n",
    "Decision trees can be unstable because small variations in the data might result in a completely different tree being generated. This problem is mitigated by using decision trees within an ensemble."
   ],
   "cell_type": "markdown",
   "metadata": {}
  },
  {
   "cell_type": "code",
   "execution_count": 2,
   "metadata": {},
   "outputs": [
    {
     "output_type": "stream",
     "name": "stdout",
     "text": [
      "The autoreload extension is already loaded. To reload it, use:\n  %reload_ext autoreload\n"
     ]
    }
   ],
   "source": [
    "%load_ext autoreload\n",
    "%autoreload 2\n",
    "import numpy as np\n",
    "import pandas as pd\n",
    "from sklearn.metrics import f1_score\n",
    "from mlscratchnk.supervised.decision_tree import DecisionTreeClassifier as CustomDecisionTreeClassifier\n",
    "from mlscratchnk.supervised.gradient_boost import GradientBoostingClassifier\n",
    "import mlscratchnk.supervised.decision_tree_visualizer\n",
    "from sklearn.tree import DecisionTreeClassifier\n",
    "from sklearn.ensemble import RandomForestClassifier\n",
    "from sklearn.dummy import DummyClassifier\n",
    "from sklearn.linear_model import LogisticRegression\n",
    "from sklearn.model_selection import train_test_split\n"
   ]
  },
  {
   "cell_type": "code",
   "execution_count": 3,
   "metadata": {},
   "outputs": [
    {
     "output_type": "execute_result",
     "data": {
      "text/plain": [
       "         height      weight\n",
       "985   66.473766  175.947368\n",
       "772   69.145909  202.628196\n",
       "9294  63.858324  136.852306\n",
       "4553  69.672619  203.038218\n",
       "4563  68.733514  186.992237\n",
       "...         ...         ...\n",
       "7913  66.709807  153.566607\n",
       "2246  65.193988  156.286199\n",
       "410   68.762458  196.293806\n",
       "1018  66.997862  178.057336\n",
       "9419  60.725015  129.443437\n",
       "\n",
       "[750 rows x 2 columns]"
      ],
      "text/html": "<div>\n<style scoped>\n    .dataframe tbody tr th:only-of-type {\n        vertical-align: middle;\n    }\n\n    .dataframe tbody tr th {\n        vertical-align: top;\n    }\n\n    .dataframe thead th {\n        text-align: right;\n    }\n</style>\n<table border=\"1\" class=\"dataframe\">\n  <thead>\n    <tr style=\"text-align: right;\">\n      <th></th>\n      <th>height</th>\n      <th>weight</th>\n    </tr>\n  </thead>\n  <tbody>\n    <tr>\n      <th>985</th>\n      <td>66.473766</td>\n      <td>175.947368</td>\n    </tr>\n    <tr>\n      <th>772</th>\n      <td>69.145909</td>\n      <td>202.628196</td>\n    </tr>\n    <tr>\n      <th>9294</th>\n      <td>63.858324</td>\n      <td>136.852306</td>\n    </tr>\n    <tr>\n      <th>4553</th>\n      <td>69.672619</td>\n      <td>203.038218</td>\n    </tr>\n    <tr>\n      <th>4563</th>\n      <td>68.733514</td>\n      <td>186.992237</td>\n    </tr>\n    <tr>\n      <th>...</th>\n      <td>...</td>\n      <td>...</td>\n    </tr>\n    <tr>\n      <th>7913</th>\n      <td>66.709807</td>\n      <td>153.566607</td>\n    </tr>\n    <tr>\n      <th>2246</th>\n      <td>65.193988</td>\n      <td>156.286199</td>\n    </tr>\n    <tr>\n      <th>410</th>\n      <td>68.762458</td>\n      <td>196.293806</td>\n    </tr>\n    <tr>\n      <th>1018</th>\n      <td>66.997862</td>\n      <td>178.057336</td>\n    </tr>\n    <tr>\n      <th>9419</th>\n      <td>60.725015</td>\n      <td>129.443437</td>\n    </tr>\n  </tbody>\n</table>\n<p>750 rows × 2 columns</p>\n</div>"
     },
     "metadata": {},
     "execution_count": 3
    }
   ],
   "source": [
    "def clean_target(target):\n",
    "    target.loc[target == 'Male'] = 0\n",
    "    target.loc[target == 'Female'] = 1\n",
    "    return target.astype(int)\n",
    "\n",
    "def get_splitted_data(nsamples=None, imbalanced_samples = None):\n",
    "    data = pd.read_csv('weight-height.csv')\n",
    "    data.columns = ['gender', 'height', 'weight']\n",
    "\n",
    "    sub_data = data if nsamples is None else data.sample(nsamples, random_state=45)\n",
    "\n",
    "    if imbalanced_samples is not None:\n",
    "        female_sample = data[data['gender'] == 'Female'].sample(imbalanced_samples, random_state=1)\n",
    "        sub_data = pd.concat([sub_data, female_sample])\n",
    "        sub_data.drop_duplicates(inplace=True)\n",
    "    \n",
    "\n",
    "    features = sub_data.drop('gender', axis=1)\n",
    "    target = clean_target(sub_data['gender'])\n",
    "\n",
    "    #features_train, features_valid, target_train, target_valid \n",
    "    return train_test_split(features, target, test_size=0.25)\n",
    "\n",
    "features_train, features_valid, target_train, target_valid = get_splitted_data(nsamples=1000)\n",
    "features_train"
   ]
  },
  {
   "cell_type": "code",
   "execution_count": 4,
   "metadata": {},
   "outputs": [],
   "source": [
    "color_classes = {0: 'blue', 1: 'red'}\n",
    "label_classes = {0: 'Male', 1: 'Female'}\n",
    "label_features = {0: 'height', 1: 'weight'}\n",
    "\n",
    "def visualize_tree(model):\n",
    "    return decision_tree_visualizer.visualize_result(model.root_node, color_classes, label_classes, label_features, save_pdf=False)\n",
    "\n",
    "\n",
    "def test_model(model):\n",
    "    predicted_train = model.predict(features_train.values)\n",
    "    predicted = model.predict(features_valid.values)\n",
    "    depth = model.get_depth() if hasattr(model, 'get_depth') else None\n",
    "    print(f'train score = {f1_score(target_train.values, predicted_train):.3f}, valid score f1 = {f1_score(target_valid.values, predicted):.3f}, depth {depth}, name {model.__class__.__name__}')"
   ]
  },
  {
   "cell_type": "code",
   "execution_count": 5,
   "metadata": {
    "tags": []
   },
   "outputs": [
    {
     "output_type": "stream",
     "name": "stdout",
     "text": [
      "train score = 0.924, valid score f1 = 0.919, depth 10, name DecisionTreeClassifier\nWall time: 23 ms\n"
     ]
    },
    {
     "output_type": "execute_result",
     "data": {
      "text/plain": [
       "<graphviz.dot.Digraph at 0x20f8af0e400>"
      ],
      "image/svg+xml": "<?xml version=\"1.0\" encoding=\"UTF-8\" standalone=\"no\"?>\r\n<!DOCTYPE svg PUBLIC \"-//W3C//DTD SVG 1.1//EN\"\r\n \"http://www.w3.org/Graphics/SVG/1.1/DTD/svg11.dtd\">\r\n<!-- Generated by graphviz version 2.38.0 (20140413.2041)\r\n -->\r\n<!-- Title: %3 Pages: 1 -->\r\n<svg width=\"2345pt\" height=\"845pt\"\r\n viewBox=\"0.00 0.00 2344.50 845.00\" xmlns=\"http://www.w3.org/2000/svg\" xmlns:xlink=\"http://www.w3.org/1999/xlink\">\r\n<g id=\"graph0\" class=\"graph\" transform=\"scale(1 1) rotate(0) translate(4 841)\">\r\n<title>%3</title>\r\n<polygon fill=\"white\" stroke=\"none\" points=\"-4,4 -4,-841 2340.5,-841 2340.5,4 -4,4\"/>\r\n<!-- 0d0h -->\r\n<g id=\"node1\" class=\"node\"><title>0d0h</title>\r\n<polygon fill=\"none\" stroke=\"black\" points=\"1425,-837 1123,-837 1123,-801 1425,-801 1425,-837\"/>\r\n<text text-anchor=\"middle\" x=\"1274\" y=\"-815.3\" font-family=\"Times New Roman,serif\" font-size=\"14.00\">root node height &#45; 67.60677644638503, nsamples 0</text>\r\n</g>\r\n<!-- 1d0h -->\r\n<g id=\"node2\" class=\"node\"><title>1d0h</title>\r\n<polygon fill=\"none\" stroke=\"red\" points=\"1268,-765 1036,-765 1036,-712 1268,-712 1268,-765\"/>\r\n<text text-anchor=\"middle\" x=\"1152\" y=\"-749.8\" font-family=\"Times New Roman,serif\" font-size=\"14.00\">weight &#45; 142.97, impurity 0.22</text>\r\n<text text-anchor=\"middle\" x=\"1152\" y=\"-734.8\" font-family=\"Times New Roman,serif\" font-size=\"14.00\">depth 1, hindex 0, nsamples 474</text>\r\n<text text-anchor=\"middle\" x=\"1152\" y=\"-719.8\" font-family=\"Times New Roman,serif\" font-size=\"14.00\">class Female 77.43% impr decr 8.26%</text>\r\n</g>\r\n<!-- 0d0h&#45;&gt;1d0h -->\r\n<g id=\"edge1\" class=\"edge\"><title>0d0h&#45;&gt;1d0h</title>\r\n<path fill=\"none\" stroke=\"black\" d=\"M1247.53,-800.967C1233.81,-792.14 1216.62,-781.078 1200.61,-770.78\"/>\r\n<polygon fill=\"black\" stroke=\"black\" points=\"1202.18,-767.624 1191.87,-765.156 1198.39,-773.511 1202.18,-767.624\"/>\r\n</g>\r\n<!-- 1d1h -->\r\n<g id=\"node3\" class=\"node\"><title>1d1h</title>\r\n<polygon fill=\"none\" stroke=\"blue\" points=\"1505.5,-765 1286.5,-765 1286.5,-712 1505.5,-712 1505.5,-765\"/>\r\n<text text-anchor=\"middle\" x=\"1396\" y=\"-749.8\" font-family=\"Times New Roman,serif\" font-size=\"14.00\">weight &#45; 156.63, impurity 0.06</text>\r\n<text text-anchor=\"middle\" x=\"1396\" y=\"-734.8\" font-family=\"Times New Roman,serif\" font-size=\"14.00\">depth 1, hindex 1, nsamples 276</text>\r\n<text text-anchor=\"middle\" x=\"1396\" y=\"-719.8\" font-family=\"Times New Roman,serif\" font-size=\"14.00\">class Male 90.58% impr decr 0.39%</text>\r\n</g>\r\n<!-- 0d0h&#45;&gt;1d1h -->\r\n<g id=\"edge2\" class=\"edge\"><title>0d0h&#45;&gt;1d1h</title>\r\n<path fill=\"none\" stroke=\"black\" d=\"M1300.47,-800.967C1314.19,-792.14 1331.38,-781.078 1347.39,-770.78\"/>\r\n<polygon fill=\"black\" stroke=\"black\" points=\"1349.61,-773.511 1356.13,-765.156 1345.82,-767.624 1349.61,-773.511\"/>\r\n</g>\r\n<!-- 2d0h -->\r\n<g id=\"node4\" class=\"node\"><title>2d0h</title>\r\n<polygon fill=\"none\" stroke=\"red\" points=\"835,-676 603,-676 603,-623 835,-623 835,-676\"/>\r\n<text text-anchor=\"middle\" x=\"719\" y=\"-660.8\" font-family=\"Times New Roman,serif\" font-size=\"14.00\">weight &#45; 123.06, impurity 0.02</text>\r\n<text text-anchor=\"middle\" x=\"719\" y=\"-645.8\" font-family=\"Times New Roman,serif\" font-size=\"14.00\">depth 2, hindex 0, nsamples 274</text>\r\n<text text-anchor=\"middle\" x=\"719\" y=\"-630.8\" font-family=\"Times New Roman,serif\" font-size=\"14.00\">class Female 98.18% impr decr 0.48%</text>\r\n</g>\r\n<!-- 1d0h&#45;&gt;2d0h -->\r\n<g id=\"edge3\" class=\"edge\"><title>1d0h&#45;&gt;2d0h</title>\r\n<path fill=\"none\" stroke=\"black\" d=\"M1035.96,-714.186C977.114,-702.361 905.539,-687.98 845.306,-675.878\"/>\r\n<polygon fill=\"black\" stroke=\"black\" points=\"845.85,-672.417 835.356,-673.879 844.471,-679.28 845.85,-672.417\"/>\r\n</g>\r\n<!-- 2d1h -->\r\n<g id=\"node5\" class=\"node\"><title>2d1h</title>\r\n<polygon fill=\"none\" stroke=\"blue\" points=\"1263.5,-676 1044.5,-676 1044.5,-623 1263.5,-623 1263.5,-676\"/>\r\n<text text-anchor=\"middle\" x=\"1154\" y=\"-660.8\" font-family=\"Times New Roman,serif\" font-size=\"14.00\">weight &#45; 173.04, impurity 0.21</text>\r\n<text text-anchor=\"middle\" x=\"1154\" y=\"-645.8\" font-family=\"Times New Roman,serif\" font-size=\"14.00\">depth 2, hindex 1, nsamples 200</text>\r\n<text text-anchor=\"middle\" x=\"1154\" y=\"-630.8\" font-family=\"Times New Roman,serif\" font-size=\"14.00\">class Male 51.00% impr decr 2.11%</text>\r\n</g>\r\n<!-- 1d0h&#45;&gt;2d1h -->\r\n<g id=\"edge4\" class=\"edge\"><title>1d0h&#45;&gt;2d1h</title>\r\n<path fill=\"none\" stroke=\"black\" d=\"M1152.59,-711.868C1152.77,-703.886 1152.98,-694.932 1153.18,-686.384\"/>\r\n<polygon fill=\"black\" stroke=\"black\" points=\"1156.68,-686.328 1153.41,-676.25 1149.68,-686.167 1156.68,-686.328\"/>\r\n</g>\r\n<!-- 2d2h -->\r\n<g id=\"node44\" class=\"node\"><title>2d2h</title>\r\n<polygon fill=\"none\" stroke=\"red\" points=\"1489,-676 1299,-676 1299,-623 1489,-623 1489,-676\"/>\r\n<text text-anchor=\"middle\" x=\"1394\" y=\"-660.8\" font-family=\"Times New Roman,serif\" font-size=\"14.00\">leaf, impurity 0.01</text>\r\n<text text-anchor=\"middle\" x=\"1394\" y=\"-645.8\" font-family=\"Times New Roman,serif\" font-size=\"14.00\">depth 2, hindex 2, nsamples 10</text>\r\n<text text-anchor=\"middle\" x=\"1394\" y=\"-630.8\" font-family=\"Times New Roman,serif\" font-size=\"14.00\">class Female 90.00%</text>\r\n</g>\r\n<!-- 1d1h&#45;&gt;2d2h -->\r\n<g id=\"edge43\" class=\"edge\"><title>1d1h&#45;&gt;2d2h</title>\r\n<path fill=\"none\" stroke=\"black\" d=\"M1395.41,-711.868C1395.23,-703.886 1395.02,-694.932 1394.82,-686.384\"/>\r\n<polygon fill=\"black\" stroke=\"black\" points=\"1398.32,-686.167 1394.59,-676.25 1391.32,-686.328 1398.32,-686.167\"/>\r\n</g>\r\n<!-- 2d3h -->\r\n<g id=\"node45\" class=\"node\"><title>2d3h</title>\r\n<polygon fill=\"none\" stroke=\"blue\" points=\"1726.5,-676 1507.5,-676 1507.5,-623 1726.5,-623 1726.5,-676\"/>\r\n<text text-anchor=\"middle\" x=\"1617\" y=\"-660.8\" font-family=\"Times New Roman,serif\" font-size=\"14.00\">weight &#45; 201.04, impurity 0.12</text>\r\n<text text-anchor=\"middle\" x=\"1617\" y=\"-645.8\" font-family=\"Times New Roman,serif\" font-size=\"14.00\">depth 2, hindex 3, nsamples 266</text>\r\n<text text-anchor=\"middle\" x=\"1617\" y=\"-630.8\" font-family=\"Times New Roman,serif\" font-size=\"14.00\">class Male 93.61% impr decr 1.37%</text>\r\n</g>\r\n<!-- 1d1h&#45;&gt;2d3h -->\r\n<g id=\"edge44\" class=\"edge\"><title>1d1h&#45;&gt;2d3h</title>\r\n<path fill=\"none\" stroke=\"black\" d=\"M1460.81,-711.985C1486.45,-701.893 1516.07,-690.233 1542.58,-679.798\"/>\r\n<polygon fill=\"black\" stroke=\"black\" points=\"1544.16,-682.934 1552.19,-676.015 1541.6,-676.421 1544.16,-682.934\"/>\r\n</g>\r\n<!-- 3d0h -->\r\n<g id=\"node6\" class=\"node\"><title>3d0h</title>\r\n<polygon fill=\"none\" stroke=\"red\" points=\"584.5,-587 387.5,-587 387.5,-534 584.5,-534 584.5,-587\"/>\r\n<text text-anchor=\"middle\" x=\"486\" y=\"-571.8\" font-family=\"Times New Roman,serif\" font-size=\"14.00\">leaf, impurity 0.00</text>\r\n<text text-anchor=\"middle\" x=\"486\" y=\"-556.8\" font-family=\"Times New Roman,serif\" font-size=\"14.00\">depth 3, hindex 0, nsamples 101</text>\r\n<text text-anchor=\"middle\" x=\"486\" y=\"-541.8\" font-family=\"Times New Roman,serif\" font-size=\"14.00\">class Female 100.00%</text>\r\n</g>\r\n<!-- 2d0h&#45;&gt;3d0h -->\r\n<g id=\"edge5\" class=\"edge\"><title>2d0h&#45;&gt;3d0h</title>\r\n<path fill=\"none\" stroke=\"black\" d=\"M650.667,-622.985C623.401,-612.804 591.864,-601.029 563.731,-590.524\"/>\r\n<polygon fill=\"black\" stroke=\"black\" points=\"564.925,-587.234 554.332,-587.015 562.476,-593.792 564.925,-587.234\"/>\r\n</g>\r\n<!-- 3d1h -->\r\n<g id=\"node7\" class=\"node\"><title>3d1h</title>\r\n<polygon fill=\"none\" stroke=\"red\" points=\"835,-587 603,-587 603,-534 835,-534 835,-587\"/>\r\n<text text-anchor=\"middle\" x=\"719\" y=\"-571.8\" font-family=\"Times New Roman,serif\" font-size=\"14.00\">height &#45; 62.37, impurity 0.04</text>\r\n<text text-anchor=\"middle\" x=\"719\" y=\"-556.8\" font-family=\"Times New Roman,serif\" font-size=\"14.00\">depth 3, hindex 1, nsamples 173</text>\r\n<text text-anchor=\"middle\" x=\"719\" y=\"-541.8\" font-family=\"Times New Roman,serif\" font-size=\"14.00\">class Female 97.11% impr decr 0.69%</text>\r\n</g>\r\n<!-- 2d0h&#45;&gt;3d1h -->\r\n<g id=\"edge6\" class=\"edge\"><title>2d0h&#45;&gt;3d1h</title>\r\n<path fill=\"none\" stroke=\"black\" d=\"M719,-622.868C719,-614.886 719,-605.932 719,-597.384\"/>\r\n<polygon fill=\"black\" stroke=\"black\" points=\"722.5,-597.25 719,-587.25 715.5,-597.25 722.5,-597.25\"/>\r\n</g>\r\n<!-- 3d2h -->\r\n<g id=\"node18\" class=\"node\"><title>3d2h</title>\r\n<polygon fill=\"none\" stroke=\"red\" points=\"1270,-587 1038,-587 1038,-534 1270,-534 1270,-587\"/>\r\n<text text-anchor=\"middle\" x=\"1154\" y=\"-571.8\" font-family=\"Times New Roman,serif\" font-size=\"14.00\">weight &#45; 171.24, impurity 0.40</text>\r\n<text text-anchor=\"middle\" x=\"1154\" y=\"-556.8\" font-family=\"Times New Roman,serif\" font-size=\"14.00\">depth 3, hindex 2, nsamples 164</text>\r\n<text text-anchor=\"middle\" x=\"1154\" y=\"-541.8\" font-family=\"Times New Roman,serif\" font-size=\"14.00\">class Female 59.15% impr decr 1.01%</text>\r\n</g>\r\n<!-- 2d1h&#45;&gt;3d2h -->\r\n<g id=\"edge17\" class=\"edge\"><title>2d1h&#45;&gt;3d2h</title>\r\n<path fill=\"none\" stroke=\"black\" d=\"M1154,-622.868C1154,-614.886 1154,-605.932 1154,-597.384\"/>\r\n<polygon fill=\"black\" stroke=\"black\" points=\"1157.5,-597.25 1154,-587.25 1150.5,-597.25 1157.5,-597.25\"/>\r\n</g>\r\n<!-- 3d3h -->\r\n<g id=\"node19\" class=\"node\"><title>3d3h</title>\r\n<polygon fill=\"none\" stroke=\"blue\" points=\"1478,-587 1288,-587 1288,-534 1478,-534 1478,-587\"/>\r\n<text text-anchor=\"middle\" x=\"1383\" y=\"-571.8\" font-family=\"Times New Roman,serif\" font-size=\"14.00\">leaf, impurity 0.01</text>\r\n<text text-anchor=\"middle\" x=\"1383\" y=\"-556.8\" font-family=\"Times New Roman,serif\" font-size=\"14.00\">depth 3, hindex 3, nsamples 36</text>\r\n<text text-anchor=\"middle\" x=\"1383\" y=\"-541.8\" font-family=\"Times New Roman,serif\" font-size=\"14.00\">class Male 97.22%</text>\r\n</g>\r\n<!-- 2d1h&#45;&gt;3d3h -->\r\n<g id=\"edge18\" class=\"edge\"><title>2d1h&#45;&gt;3d3h</title>\r\n<path fill=\"none\" stroke=\"black\" d=\"M1221.16,-622.985C1247.84,-612.849 1278.68,-601.131 1306.24,-590.661\"/>\r\n<polygon fill=\"black\" stroke=\"black\" points=\"1307.74,-593.838 1315.84,-587.015 1305.25,-587.294 1307.74,-593.838\"/>\r\n</g>\r\n<!-- 4d2h -->\r\n<g id=\"node8\" class=\"node\"><title>4d2h</title>\r\n<polygon fill=\"none\" stroke=\"red\" points=\"440,-498 208,-498 208,-445 440,-445 440,-498\"/>\r\n<text text-anchor=\"middle\" x=\"324\" y=\"-482.8\" font-family=\"Times New Roman,serif\" font-size=\"14.00\">weight &#45; 130.06, impurity 0.03</text>\r\n<text text-anchor=\"middle\" x=\"324\" y=\"-467.8\" font-family=\"Times New Roman,serif\" font-size=\"14.00\">depth 4, hindex 2, nsamples 47</text>\r\n<text text-anchor=\"middle\" x=\"324\" y=\"-452.8\" font-family=\"Times New Roman,serif\" font-size=\"14.00\">class Female 93.62% impr decr 0.36%</text>\r\n</g>\r\n<!-- 3d1h&#45;&gt;4d2h -->\r\n<g id=\"edge7\" class=\"edge\"><title>3d1h&#45;&gt;4d2h</title>\r\n<path fill=\"none\" stroke=\"black\" d=\"M603.156,-533.985C555.025,-523.384 499.04,-511.053 449.897,-500.229\"/>\r\n<polygon fill=\"black\" stroke=\"black\" points=\"450.361,-496.748 439.842,-498.015 448.855,-503.584 450.361,-496.748\"/>\r\n</g>\r\n<!-- 4d3h -->\r\n<g id=\"node9\" class=\"node\"><title>4d3h</title>\r\n<polygon fill=\"none\" stroke=\"red\" points=\"835,-498 603,-498 603,-445 835,-445 835,-498\"/>\r\n<text text-anchor=\"middle\" x=\"719\" y=\"-482.8\" font-family=\"Times New Roman,serif\" font-size=\"14.00\">weight &#45; 139.67, impurity 0.02</text>\r\n<text text-anchor=\"middle\" x=\"719\" y=\"-467.8\" font-family=\"Times New Roman,serif\" font-size=\"14.00\">depth 4, hindex 3, nsamples 126</text>\r\n<text text-anchor=\"middle\" x=\"719\" y=\"-452.8\" font-family=\"Times New Roman,serif\" font-size=\"14.00\">class Female 98.41% impr decr 0.26%</text>\r\n</g>\r\n<!-- 3d1h&#45;&gt;4d3h -->\r\n<g id=\"edge8\" class=\"edge\"><title>3d1h&#45;&gt;4d3h</title>\r\n<path fill=\"none\" stroke=\"black\" d=\"M719,-533.868C719,-525.886 719,-516.932 719,-508.384\"/>\r\n<polygon fill=\"black\" stroke=\"black\" points=\"722.5,-508.25 719,-498.25 715.5,-508.25 722.5,-508.25\"/>\r\n</g>\r\n<!-- 5d4h -->\r\n<g id=\"node10\" class=\"node\"><title>5d4h</title>\r\n<polygon fill=\"none\" stroke=\"red\" points=\"190,-409 0,-409 0,-356 190,-356 190,-409\"/>\r\n<text text-anchor=\"middle\" x=\"95\" y=\"-393.8\" font-family=\"Times New Roman,serif\" font-size=\"14.00\">leaf, impurity 0.00</text>\r\n<text text-anchor=\"middle\" x=\"95\" y=\"-378.8\" font-family=\"Times New Roman,serif\" font-size=\"14.00\">depth 5, hindex 4, nsamples 24</text>\r\n<text text-anchor=\"middle\" x=\"95\" y=\"-363.8\" font-family=\"Times New Roman,serif\" font-size=\"14.00\">class Female 100.00%</text>\r\n</g>\r\n<!-- 4d2h&#45;&gt;5d4h -->\r\n<g id=\"edge9\" class=\"edge\"><title>4d2h&#45;&gt;5d4h</title>\r\n<path fill=\"none\" stroke=\"black\" d=\"M256.84,-444.985C230.159,-434.849 199.316,-423.131 171.758,-412.661\"/>\r\n<polygon fill=\"black\" stroke=\"black\" points=\"172.75,-409.294 162.159,-409.015 170.264,-415.838 172.75,-409.294\"/>\r\n</g>\r\n<!-- 5d5h -->\r\n<g id=\"node11\" class=\"node\"><title>5d5h</title>\r\n<polygon fill=\"none\" stroke=\"red\" points=\"440,-409 208,-409 208,-356 440,-356 440,-409\"/>\r\n<text text-anchor=\"middle\" x=\"324\" y=\"-393.8\" font-family=\"Times New Roman,serif\" font-size=\"14.00\">height &#45; 61.98, impurity 0.11</text>\r\n<text text-anchor=\"middle\" x=\"324\" y=\"-378.8\" font-family=\"Times New Roman,serif\" font-size=\"14.00\">depth 5, hindex 5, nsamples 23</text>\r\n<text text-anchor=\"middle\" x=\"324\" y=\"-363.8\" font-family=\"Times New Roman,serif\" font-size=\"14.00\">class Female 86.96% impr decr 0.33%</text>\r\n</g>\r\n<!-- 4d2h&#45;&gt;5d5h -->\r\n<g id=\"edge10\" class=\"edge\"><title>4d2h&#45;&gt;5d5h</title>\r\n<path fill=\"none\" stroke=\"black\" d=\"M324,-444.868C324,-436.886 324,-427.932 324,-419.384\"/>\r\n<polygon fill=\"black\" stroke=\"black\" points=\"327.5,-419.25 324,-409.25 320.5,-419.25 327.5,-419.25\"/>\r\n</g>\r\n<!-- 5d6h -->\r\n<g id=\"node14\" class=\"node\"><title>5d6h</title>\r\n<polygon fill=\"none\" stroke=\"red\" points=\"731,-409 499,-409 499,-356 731,-356 731,-409\"/>\r\n<text text-anchor=\"middle\" x=\"615\" y=\"-393.8\" font-family=\"Times New Roman,serif\" font-size=\"14.00\">weight &#45; 137.36, impurity 0.02</text>\r\n<text text-anchor=\"middle\" x=\"615\" y=\"-378.8\" font-family=\"Times New Roman,serif\" font-size=\"14.00\">depth 5, hindex 6, nsamples 96</text>\r\n<text text-anchor=\"middle\" x=\"615\" y=\"-363.8\" font-family=\"Times New Roman,serif\" font-size=\"14.00\">class Female 98.96% impr decr 0.20%</text>\r\n</g>\r\n<!-- 4d3h&#45;&gt;5d6h -->\r\n<g id=\"edge13\" class=\"edge\"><title>4d3h&#45;&gt;5d6h</title>\r\n<path fill=\"none\" stroke=\"black\" d=\"M688.359,-444.868C677.454,-435.745 665.033,-425.354 653.55,-415.749\"/>\r\n<polygon fill=\"black\" stroke=\"black\" points=\"655.697,-412.982 645.781,-409.25 651.206,-418.351 655.697,-412.982\"/>\r\n</g>\r\n<!-- 5d7h -->\r\n<g id=\"node15\" class=\"node\"><title>5d7h</title>\r\n<polygon fill=\"none\" stroke=\"red\" points=\"939,-409 749,-409 749,-356 939,-356 939,-409\"/>\r\n<text text-anchor=\"middle\" x=\"844\" y=\"-393.8\" font-family=\"Times New Roman,serif\" font-size=\"14.00\">leaf, impurity 0.02</text>\r\n<text text-anchor=\"middle\" x=\"844\" y=\"-378.8\" font-family=\"Times New Roman,serif\" font-size=\"14.00\">depth 5, hindex 7, nsamples 30</text>\r\n<text text-anchor=\"middle\" x=\"844\" y=\"-363.8\" font-family=\"Times New Roman,serif\" font-size=\"14.00\">class Female 96.67%</text>\r\n</g>\r\n<!-- 4d3h&#45;&gt;5d7h -->\r\n<g id=\"edge14\" class=\"edge\"><title>4d3h&#45;&gt;5d7h</title>\r\n<path fill=\"none\" stroke=\"black\" d=\"M755.828,-444.868C769.187,-435.57 784.44,-424.954 798.46,-415.196\"/>\r\n<polygon fill=\"black\" stroke=\"black\" points=\"800.795,-417.835 807.003,-409.25 796.796,-412.09 800.795,-417.835\"/>\r\n</g>\r\n<!-- 6d10h -->\r\n<g id=\"node12\" class=\"node\"><title>6d10h</title>\r\n<polygon fill=\"none\" stroke=\"red\" points=\"207.5,-320 10.5,-320 10.5,-267 207.5,-267 207.5,-320\"/>\r\n<text text-anchor=\"middle\" x=\"109\" y=\"-304.8\" font-family=\"Times New Roman,serif\" font-size=\"14.00\">leaf, impurity 0.15</text>\r\n<text text-anchor=\"middle\" x=\"109\" y=\"-289.8\" font-family=\"Times New Roman,serif\" font-size=\"14.00\">depth 6, hindex 10, nsamples 13</text>\r\n<text text-anchor=\"middle\" x=\"109\" y=\"-274.8\" font-family=\"Times New Roman,serif\" font-size=\"14.00\">class Female 84.62%</text>\r\n</g>\r\n<!-- 5d5h&#45;&gt;6d10h -->\r\n<g id=\"edge11\" class=\"edge\"><title>5d5h&#45;&gt;6d10h</title>\r\n<path fill=\"none\" stroke=\"black\" d=\"M260.946,-355.985C236.005,-345.893 207.192,-334.233 181.404,-323.798\"/>\r\n<polygon fill=\"black\" stroke=\"black\" points=\"182.636,-320.521 172.053,-320.015 180.01,-327.01 182.636,-320.521\"/>\r\n</g>\r\n<!-- 6d11h -->\r\n<g id=\"node13\" class=\"node\"><title>6d11h</title>\r\n<polygon fill=\"none\" stroke=\"red\" points=\"422.5,-320 225.5,-320 225.5,-267 422.5,-267 422.5,-320\"/>\r\n<text text-anchor=\"middle\" x=\"324\" y=\"-304.8\" font-family=\"Times New Roman,serif\" font-size=\"14.00\">leaf, impurity 0.08</text>\r\n<text text-anchor=\"middle\" x=\"324\" y=\"-289.8\" font-family=\"Times New Roman,serif\" font-size=\"14.00\">depth 6, hindex 11, nsamples 10</text>\r\n<text text-anchor=\"middle\" x=\"324\" y=\"-274.8\" font-family=\"Times New Roman,serif\" font-size=\"14.00\">class Female 90.00%</text>\r\n</g>\r\n<!-- 5d5h&#45;&gt;6d11h -->\r\n<g id=\"edge12\" class=\"edge\"><title>5d5h&#45;&gt;6d11h</title>\r\n<path fill=\"none\" stroke=\"black\" d=\"M324,-355.868C324,-347.886 324,-338.932 324,-330.384\"/>\r\n<polygon fill=\"black\" stroke=\"black\" points=\"327.5,-330.25 324,-320.25 320.5,-330.25 327.5,-330.25\"/>\r\n</g>\r\n<!-- 6d12h -->\r\n<g id=\"node16\" class=\"node\"><title>6d12h</title>\r\n<polygon fill=\"none\" stroke=\"red\" points=\"637.5,-320 440.5,-320 440.5,-267 637.5,-267 637.5,-320\"/>\r\n<text text-anchor=\"middle\" x=\"539\" y=\"-304.8\" font-family=\"Times New Roman,serif\" font-size=\"14.00\">leaf, impurity 0.00</text>\r\n<text text-anchor=\"middle\" x=\"539\" y=\"-289.8\" font-family=\"Times New Roman,serif\" font-size=\"14.00\">depth 6, hindex 12, nsamples 77</text>\r\n<text text-anchor=\"middle\" x=\"539\" y=\"-274.8\" font-family=\"Times New Roman,serif\" font-size=\"14.00\">class Female 100.00%</text>\r\n</g>\r\n<!-- 5d6h&#45;&gt;6d12h -->\r\n<g id=\"edge15\" class=\"edge\"><title>5d6h&#45;&gt;6d12h</title>\r\n<path fill=\"none\" stroke=\"black\" d=\"M592.609,-355.868C584.946,-347.096 576.259,-337.152 568.142,-327.86\"/>\r\n<polygon fill=\"black\" stroke=\"black\" points=\"570.709,-325.478 561.494,-320.25 565.437,-330.084 570.709,-325.478\"/>\r\n</g>\r\n<!-- 6d13h -->\r\n<g id=\"node17\" class=\"node\"><title>6d13h</title>\r\n<polygon fill=\"none\" stroke=\"red\" points=\"852.5,-320 655.5,-320 655.5,-267 852.5,-267 852.5,-320\"/>\r\n<text text-anchor=\"middle\" x=\"754\" y=\"-304.8\" font-family=\"Times New Roman,serif\" font-size=\"14.00\">leaf, impurity 0.02</text>\r\n<text text-anchor=\"middle\" x=\"754\" y=\"-289.8\" font-family=\"Times New Roman,serif\" font-size=\"14.00\">depth 6, hindex 13, nsamples 19</text>\r\n<text text-anchor=\"middle\" x=\"754\" y=\"-274.8\" font-family=\"Times New Roman,serif\" font-size=\"14.00\">class Female 94.74%</text>\r\n</g>\r\n<!-- 5d6h&#45;&gt;6d13h -->\r\n<g id=\"edge16\" class=\"edge\"><title>5d6h&#45;&gt;6d13h</title>\r\n<path fill=\"none\" stroke=\"black\" d=\"M655.953,-355.868C671.088,-346.394 688.41,-335.553 704.241,-325.644\"/>\r\n<polygon fill=\"black\" stroke=\"black\" points=\"706.24,-328.522 712.86,-320.25 702.526,-322.588 706.24,-328.522\"/>\r\n</g>\r\n<!-- 4d4h -->\r\n<g id=\"node20\" class=\"node\"><title>4d4h</title>\r\n<polygon fill=\"none\" stroke=\"red\" points=\"1270,-498 1038,-498 1038,-445 1270,-445 1270,-498\"/>\r\n<text text-anchor=\"middle\" x=\"1154\" y=\"-482.8\" font-family=\"Times New Roman,serif\" font-size=\"14.00\">weight &#45; 154.55, impurity 0.42</text>\r\n<text text-anchor=\"middle\" x=\"1154\" y=\"-467.8\" font-family=\"Times New Roman,serif\" font-size=\"14.00\">depth 4, hindex 4, nsamples 150</text>\r\n<text text-anchor=\"middle\" x=\"1154\" y=\"-452.8\" font-family=\"Times New Roman,serif\" font-size=\"14.00\">class Female 64.00% impr decr 3.76%</text>\r\n</g>\r\n<!-- 3d2h&#45;&gt;4d4h -->\r\n<g id=\"edge19\" class=\"edge\"><title>3d2h&#45;&gt;4d4h</title>\r\n<path fill=\"none\" stroke=\"black\" d=\"M1154,-533.868C1154,-525.886 1154,-516.932 1154,-508.384\"/>\r\n<polygon fill=\"black\" stroke=\"black\" points=\"1157.5,-508.25 1154,-498.25 1150.5,-508.25 1157.5,-508.25\"/>\r\n</g>\r\n<!-- 4d5h -->\r\n<g id=\"node21\" class=\"node\"><title>4d5h</title>\r\n<polygon fill=\"none\" stroke=\"blue\" points=\"1478,-498 1288,-498 1288,-445 1478,-445 1478,-498\"/>\r\n<text text-anchor=\"middle\" x=\"1383\" y=\"-482.8\" font-family=\"Times New Roman,serif\" font-size=\"14.00\">leaf, impurity 0.01</text>\r\n<text text-anchor=\"middle\" x=\"1383\" y=\"-467.8\" font-family=\"Times New Roman,serif\" font-size=\"14.00\">depth 4, hindex 5, nsamples 14</text>\r\n<text text-anchor=\"middle\" x=\"1383\" y=\"-452.8\" font-family=\"Times New Roman,serif\" font-size=\"14.00\">class Male 92.86%</text>\r\n</g>\r\n<!-- 3d2h&#45;&gt;4d5h -->\r\n<g id=\"edge20\" class=\"edge\"><title>3d2h&#45;&gt;4d5h</title>\r\n<path fill=\"none\" stroke=\"black\" d=\"M1221.16,-533.985C1247.84,-523.849 1278.68,-512.131 1306.24,-501.661\"/>\r\n<polygon fill=\"black\" stroke=\"black\" points=\"1307.74,-504.838 1315.84,-498.015 1305.25,-498.294 1307.74,-504.838\"/>\r\n</g>\r\n<!-- 5d8h -->\r\n<g id=\"node22\" class=\"node\"><title>5d8h</title>\r\n<polygon fill=\"none\" stroke=\"red\" points=\"1270,-409 1038,-409 1038,-356 1270,-356 1270,-409\"/>\r\n<text text-anchor=\"middle\" x=\"1154\" y=\"-393.8\" font-family=\"Times New Roman,serif\" font-size=\"14.00\">height &#45; 62.66, impurity 0.14</text>\r\n<text text-anchor=\"middle\" x=\"1154\" y=\"-378.8\" font-family=\"Times New Roman,serif\" font-size=\"14.00\">depth 5, hindex 8, nsamples 77</text>\r\n<text text-anchor=\"middle\" x=\"1154\" y=\"-363.8\" font-family=\"Times New Roman,serif\" font-size=\"14.00\">class Female 84.42% impr decr 0.72%</text>\r\n</g>\r\n<!-- 4d4h&#45;&gt;5d8h -->\r\n<g id=\"edge21\" class=\"edge\"><title>4d4h&#45;&gt;5d8h</title>\r\n<path fill=\"none\" stroke=\"black\" d=\"M1154,-444.868C1154,-436.886 1154,-427.932 1154,-419.384\"/>\r\n<polygon fill=\"black\" stroke=\"black\" points=\"1157.5,-419.25 1154,-409.25 1150.5,-419.25 1157.5,-419.25\"/>\r\n</g>\r\n<!-- 5d9h -->\r\n<g id=\"node23\" class=\"node\"><title>5d9h</title>\r\n<polygon fill=\"none\" stroke=\"blue\" points=\"1571.5,-409 1352.5,-409 1352.5,-356 1571.5,-356 1571.5,-409\"/>\r\n<text text-anchor=\"middle\" x=\"1462\" y=\"-393.8\" font-family=\"Times New Roman,serif\" font-size=\"14.00\">weight &#45; 165.38, impurity 0.24</text>\r\n<text text-anchor=\"middle\" x=\"1462\" y=\"-378.8\" font-family=\"Times New Roman,serif\" font-size=\"14.00\">depth 5, hindex 9, nsamples 73</text>\r\n<text text-anchor=\"middle\" x=\"1462\" y=\"-363.8\" font-family=\"Times New Roman,serif\" font-size=\"14.00\">class Male 57.53% impr decr 1.63%</text>\r\n</g>\r\n<!-- 4d4h&#45;&gt;5d9h -->\r\n<g id=\"edge22\" class=\"edge\"><title>4d4h&#45;&gt;5d9h</title>\r\n<path fill=\"none\" stroke=\"black\" d=\"M1244.33,-444.985C1281.15,-434.583 1323.87,-422.516 1361.67,-411.841\"/>\r\n<polygon fill=\"black\" stroke=\"black\" points=\"1363,-415.101 1371.67,-409.015 1361.1,-408.365 1363,-415.101\"/>\r\n</g>\r\n<!-- 6d16h -->\r\n<g id=\"node24\" class=\"node\"><title>6d16h</title>\r\n<polygon fill=\"none\" stroke=\"blue\" points=\"1061,-320 871,-320 871,-267 1061,-267 1061,-320\"/>\r\n<text text-anchor=\"middle\" x=\"966\" y=\"-304.8\" font-family=\"Times New Roman,serif\" font-size=\"14.00\">leaf, impurity 0.06</text>\r\n<text text-anchor=\"middle\" x=\"966\" y=\"-289.8\" font-family=\"Times New Roman,serif\" font-size=\"14.00\">depth 6, hindex 16, nsamples 9</text>\r\n<text text-anchor=\"middle\" x=\"966\" y=\"-274.8\" font-family=\"Times New Roman,serif\" font-size=\"14.00\">class Male 55.56%</text>\r\n</g>\r\n<!-- 5d8h&#45;&gt;6d16h -->\r\n<g id=\"edge23\" class=\"edge\"><title>5d8h&#45;&gt;6d16h</title>\r\n<path fill=\"none\" stroke=\"black\" d=\"M1098.86,-355.985C1077.44,-346.07 1052.74,-334.642 1030.5,-324.349\"/>\r\n<polygon fill=\"black\" stroke=\"black\" points=\"1031.68,-321.038 1021.13,-320.015 1028.74,-327.391 1031.68,-321.038\"/>\r\n</g>\r\n<!-- 6d17h -->\r\n<g id=\"node25\" class=\"node\"><title>6d17h</title>\r\n<polygon fill=\"none\" stroke=\"red\" points=\"1311,-320 1079,-320 1079,-267 1311,-267 1311,-320\"/>\r\n<text text-anchor=\"middle\" x=\"1195\" y=\"-304.8\" font-family=\"Times New Roman,serif\" font-size=\"14.00\">height &#45; 64.93, impurity 0.16</text>\r\n<text text-anchor=\"middle\" x=\"1195\" y=\"-289.8\" font-family=\"Times New Roman,serif\" font-size=\"14.00\">depth 6, hindex 17, nsamples 68</text>\r\n<text text-anchor=\"middle\" x=\"1195\" y=\"-274.8\" font-family=\"Times New Roman,serif\" font-size=\"14.00\">class Female 89.71% impr decr 0.86%</text>\r\n</g>\r\n<!-- 5d8h&#45;&gt;6d17h -->\r\n<g id=\"edge24\" class=\"edge\"><title>5d8h&#45;&gt;6d17h</title>\r\n<path fill=\"none\" stroke=\"black\" d=\"M1166.08,-355.868C1169.97,-347.622 1174.34,-338.341 1178.49,-329.54\"/>\r\n<polygon fill=\"black\" stroke=\"black\" points=\"1181.77,-330.788 1182.87,-320.25 1175.44,-327.804 1181.77,-330.788\"/>\r\n</g>\r\n<!-- 6d18h -->\r\n<g id=\"node34\" class=\"node\"><title>6d18h</title>\r\n<polygon fill=\"none\" stroke=\"red\" points=\"1578,-320 1346,-320 1346,-267 1578,-267 1578,-320\"/>\r\n<text text-anchor=\"middle\" x=\"1462\" y=\"-304.8\" font-family=\"Times New Roman,serif\" font-size=\"14.00\">height &#45; 64.45, impurity 0.35</text>\r\n<text text-anchor=\"middle\" x=\"1462\" y=\"-289.8\" font-family=\"Times New Roman,serif\" font-size=\"14.00\">depth 6, hindex 18, nsamples 51</text>\r\n<text text-anchor=\"middle\" x=\"1462\" y=\"-274.8\" font-family=\"Times New Roman,serif\" font-size=\"14.00\">class Female 52.94% impr decr 0.59%</text>\r\n</g>\r\n<!-- 5d9h&#45;&gt;6d18h -->\r\n<g id=\"edge33\" class=\"edge\"><title>5d9h&#45;&gt;6d18h</title>\r\n<path fill=\"none\" stroke=\"black\" d=\"M1462,-355.868C1462,-347.886 1462,-338.932 1462,-330.384\"/>\r\n<polygon fill=\"black\" stroke=\"black\" points=\"1465.5,-330.25 1462,-320.25 1458.5,-330.25 1465.5,-330.25\"/>\r\n</g>\r\n<!-- 6d19h -->\r\n<g id=\"node35\" class=\"node\"><title>6d19h</title>\r\n<polygon fill=\"none\" stroke=\"blue\" points=\"1793.5,-320 1596.5,-320 1596.5,-267 1793.5,-267 1793.5,-320\"/>\r\n<text text-anchor=\"middle\" x=\"1695\" y=\"-304.8\" font-family=\"Times New Roman,serif\" font-size=\"14.00\">leaf, impurity 0.09</text>\r\n<text text-anchor=\"middle\" x=\"1695\" y=\"-289.8\" font-family=\"Times New Roman,serif\" font-size=\"14.00\">depth 6, hindex 19, nsamples 22</text>\r\n<text text-anchor=\"middle\" x=\"1695\" y=\"-274.8\" font-family=\"Times New Roman,serif\" font-size=\"14.00\">class Male 81.82%</text>\r\n</g>\r\n<!-- 5d9h&#45;&gt;6d19h -->\r\n<g id=\"edge34\" class=\"edge\"><title>5d9h&#45;&gt;6d19h</title>\r\n<path fill=\"none\" stroke=\"black\" d=\"M1530.33,-355.985C1557.6,-345.804 1589.14,-334.029 1617.27,-323.524\"/>\r\n<polygon fill=\"black\" stroke=\"black\" points=\"1618.52,-326.792 1626.67,-320.015 1616.08,-320.234 1618.52,-326.792\"/>\r\n</g>\r\n<!-- 7d34h -->\r\n<g id=\"node26\" class=\"node\"><title>7d34h</title>\r\n<polygon fill=\"none\" stroke=\"red\" points=\"1028,-231 796,-231 796,-178 1028,-178 1028,-231\"/>\r\n<text text-anchor=\"middle\" x=\"912\" y=\"-215.8\" font-family=\"Times New Roman,serif\" font-size=\"14.00\">weight &#45; 150.05, impurity 0.12</text>\r\n<text text-anchor=\"middle\" x=\"912\" y=\"-200.8\" font-family=\"Times New Roman,serif\" font-size=\"14.00\">depth 7, hindex 34, nsamples 27</text>\r\n<text text-anchor=\"middle\" x=\"912\" y=\"-185.8\" font-family=\"Times New Roman,serif\" font-size=\"14.00\">class Female 81.48% impr decr 0.33%</text>\r\n</g>\r\n<!-- 6d17h&#45;&gt;7d34h -->\r\n<g id=\"edge25\" class=\"edge\"><title>6d17h&#45;&gt;7d34h</title>\r\n<path fill=\"none\" stroke=\"black\" d=\"M1112,-266.985C1078.31,-256.627 1039.25,-244.619 1004.63,-233.977\"/>\r\n<polygon fill=\"black\" stroke=\"black\" points=\"1005.58,-230.608 994.996,-231.015 1003.53,-237.299 1005.58,-230.608\"/>\r\n</g>\r\n<!-- 7d35h -->\r\n<g id=\"node27\" class=\"node\"><title>7d35h</title>\r\n<polygon fill=\"none\" stroke=\"red\" points=\"1311,-231 1079,-231 1079,-178 1311,-178 1311,-231\"/>\r\n<text text-anchor=\"middle\" x=\"1195\" y=\"-215.8\" font-family=\"Times New Roman,serif\" font-size=\"14.00\">weight &#45; 151.31, impurity 0.06</text>\r\n<text text-anchor=\"middle\" x=\"1195\" y=\"-200.8\" font-family=\"Times New Roman,serif\" font-size=\"14.00\">depth 7, hindex 35, nsamples 41</text>\r\n<text text-anchor=\"middle\" x=\"1195\" y=\"-185.8\" font-family=\"Times New Roman,serif\" font-size=\"14.00\">class Female 95.12% impr decr 0.24%</text>\r\n</g>\r\n<!-- 6d17h&#45;&gt;7d35h -->\r\n<g id=\"edge26\" class=\"edge\"><title>6d17h&#45;&gt;7d35h</title>\r\n<path fill=\"none\" stroke=\"black\" d=\"M1195,-266.868C1195,-258.886 1195,-249.932 1195,-241.384\"/>\r\n<polygon fill=\"black\" stroke=\"black\" points=\"1198.5,-241.25 1195,-231.25 1191.5,-241.25 1198.5,-241.25\"/>\r\n</g>\r\n<!-- 8d68h -->\r\n<g id=\"node28\" class=\"node\"><title>8d68h</title>\r\n<polygon fill=\"none\" stroke=\"red\" points=\"798.5,-142 601.5,-142 601.5,-89 798.5,-89 798.5,-142\"/>\r\n<text text-anchor=\"middle\" x=\"700\" y=\"-126.8\" font-family=\"Times New Roman,serif\" font-size=\"14.00\">leaf, impurity 0.19</text>\r\n<text text-anchor=\"middle\" x=\"700\" y=\"-111.8\" font-family=\"Times New Roman,serif\" font-size=\"14.00\">depth 8, hindex 68, nsamples 23</text>\r\n<text text-anchor=\"middle\" x=\"700\" y=\"-96.8\" font-family=\"Times New Roman,serif\" font-size=\"14.00\">class Female 86.96%</text>\r\n</g>\r\n<!-- 7d34h&#45;&gt;8d68h -->\r\n<g id=\"edge27\" class=\"edge\"><title>7d34h&#45;&gt;8d68h</title>\r\n<path fill=\"none\" stroke=\"black\" d=\"M849.825,-177.985C825.341,-167.937 797.071,-156.336 771.729,-145.936\"/>\r\n<polygon fill=\"black\" stroke=\"black\" points=\"772.754,-142.573 762.173,-142.015 770.096,-149.049 772.754,-142.573\"/>\r\n</g>\r\n<!-- 8d69h -->\r\n<g id=\"node29\" class=\"node\"><title>8d69h</title>\r\n<polygon fill=\"none\" stroke=\"blue\" points=\"1007,-142 817,-142 817,-89 1007,-89 1007,-142\"/>\r\n<text text-anchor=\"middle\" x=\"912\" y=\"-126.8\" font-family=\"Times New Roman,serif\" font-size=\"14.00\">leaf, impurity 0.07</text>\r\n<text text-anchor=\"middle\" x=\"912\" y=\"-111.8\" font-family=\"Times New Roman,serif\" font-size=\"14.00\">depth 8, hindex 69, nsamples 4</text>\r\n<text text-anchor=\"middle\" x=\"912\" y=\"-96.8\" font-family=\"Times New Roman,serif\" font-size=\"14.00\">class Male 50.00%</text>\r\n</g>\r\n<!-- 7d34h&#45;&gt;8d69h -->\r\n<g id=\"edge28\" class=\"edge\"><title>7d34h&#45;&gt;8d69h</title>\r\n<path fill=\"none\" stroke=\"black\" d=\"M912,-177.868C912,-169.886 912,-160.932 912,-152.384\"/>\r\n<polygon fill=\"black\" stroke=\"black\" points=\"915.5,-152.25 912,-142.25 908.5,-152.25 915.5,-152.25\"/>\r\n</g>\r\n<!-- 8d70h -->\r\n<g id=\"node30\" class=\"node\"><title>8d70h</title>\r\n<polygon fill=\"none\" stroke=\"red\" points=\"1222.5,-142 1025.5,-142 1025.5,-89 1222.5,-89 1222.5,-142\"/>\r\n<text text-anchor=\"middle\" x=\"1124\" y=\"-126.8\" font-family=\"Times New Roman,serif\" font-size=\"14.00\">leaf, impurity 0.00</text>\r\n<text text-anchor=\"middle\" x=\"1124\" y=\"-111.8\" font-family=\"Times New Roman,serif\" font-size=\"14.00\">depth 8, hindex 70, nsamples 20</text>\r\n<text text-anchor=\"middle\" x=\"1124\" y=\"-96.8\" font-family=\"Times New Roman,serif\" font-size=\"14.00\">class Female 100.00%</text>\r\n</g>\r\n<!-- 7d35h&#45;&gt;8d70h -->\r\n<g id=\"edge29\" class=\"edge\"><title>7d35h&#45;&gt;8d70h</title>\r\n<path fill=\"none\" stroke=\"black\" d=\"M1174.08,-177.868C1166.99,-169.184 1158.97,-159.35 1151.45,-150.139\"/>\r\n<polygon fill=\"black\" stroke=\"black\" points=\"1154.05,-147.784 1145.01,-142.25 1148.63,-152.21 1154.05,-147.784\"/>\r\n</g>\r\n<!-- 8d71h -->\r\n<g id=\"node31\" class=\"node\"><title>8d71h</title>\r\n<polygon fill=\"none\" stroke=\"red\" points=\"1473,-142 1241,-142 1241,-89 1473,-89 1473,-142\"/>\r\n<text text-anchor=\"middle\" x=\"1357\" y=\"-126.8\" font-family=\"Times New Roman,serif\" font-size=\"14.00\">height &#45; 65.94, impurity 0.09</text>\r\n<text text-anchor=\"middle\" x=\"1357\" y=\"-111.8\" font-family=\"Times New Roman,serif\" font-size=\"14.00\">depth 8, hindex 71, nsamples 21</text>\r\n<text text-anchor=\"middle\" x=\"1357\" y=\"-96.8\" font-family=\"Times New Roman,serif\" font-size=\"14.00\">class Female 90.48% impr decr 0.21%</text>\r\n</g>\r\n<!-- 7d35h&#45;&gt;8d71h -->\r\n<g id=\"edge30\" class=\"edge\"><title>7d35h&#45;&gt;8d71h</title>\r\n<path fill=\"none\" stroke=\"black\" d=\"M1242.73,-177.868C1260.78,-168.176 1281.49,-157.052 1300.28,-146.96\"/>\r\n<polygon fill=\"black\" stroke=\"black\" points=\"1302.18,-149.914 1309.33,-142.099 1298.87,-143.747 1302.18,-149.914\"/>\r\n</g>\r\n<!-- 9d142h -->\r\n<g id=\"node32\" class=\"node\"><title>9d142h</title>\r\n<polygon fill=\"none\" stroke=\"red\" points=\"1237.5,-53 1040.5,-53 1040.5,-0 1237.5,-0 1237.5,-53\"/>\r\n<text text-anchor=\"middle\" x=\"1139\" y=\"-37.8\" font-family=\"Times New Roman,serif\" font-size=\"14.00\">leaf, impurity 0.07</text>\r\n<text text-anchor=\"middle\" x=\"1139\" y=\"-22.8\" font-family=\"Times New Roman,serif\" font-size=\"14.00\">depth 9, hindex 142, nsamples 4</text>\r\n<text text-anchor=\"middle\" x=\"1139\" y=\"-7.8\" font-family=\"Times New Roman,serif\" font-size=\"14.00\">class Female 75.00%</text>\r\n</g>\r\n<!-- 8d71h&#45;&gt;9d142h -->\r\n<g id=\"edge31\" class=\"edge\"><title>8d71h&#45;&gt;9d142h</title>\r\n<path fill=\"none\" stroke=\"black\" d=\"M1293.07,-88.985C1267.78,-78.8929 1238.56,-67.2333 1212.41,-56.7984\"/>\r\n<polygon fill=\"black\" stroke=\"black\" points=\"1213.52,-53.4705 1202.93,-53.0146 1210.92,-59.9719 1213.52,-53.4705\"/>\r\n</g>\r\n<!-- 9d143h -->\r\n<g id=\"node33\" class=\"node\"><title>9d143h</title>\r\n<polygon fill=\"none\" stroke=\"red\" points=\"1458.5,-53 1255.5,-53 1255.5,-0 1458.5,-0 1458.5,-53\"/>\r\n<text text-anchor=\"middle\" x=\"1357\" y=\"-37.8\" font-family=\"Times New Roman,serif\" font-size=\"14.00\">leaf, impurity 0.09</text>\r\n<text text-anchor=\"middle\" x=\"1357\" y=\"-22.8\" font-family=\"Times New Roman,serif\" font-size=\"14.00\">depth 9, hindex 143, nsamples 17</text>\r\n<text text-anchor=\"middle\" x=\"1357\" y=\"-7.8\" font-family=\"Times New Roman,serif\" font-size=\"14.00\">class Female 94.12%</text>\r\n</g>\r\n<!-- 8d71h&#45;&gt;9d143h -->\r\n<g id=\"edge32\" class=\"edge\"><title>8d71h&#45;&gt;9d143h</title>\r\n<path fill=\"none\" stroke=\"black\" d=\"M1357,-88.8677C1357,-80.8856 1357,-71.9321 1357,-63.3836\"/>\r\n<polygon fill=\"black\" stroke=\"black\" points=\"1360.5,-63.2497 1357,-53.2497 1353.5,-63.2498 1360.5,-63.2497\"/>\r\n</g>\r\n<!-- 7d36h -->\r\n<g id=\"node36\" class=\"node\"><title>7d36h</title>\r\n<polygon fill=\"none\" stroke=\"blue\" points=\"1557,-231 1367,-231 1367,-178 1557,-178 1557,-231\"/>\r\n<text text-anchor=\"middle\" x=\"1462\" y=\"-215.8\" font-family=\"Times New Roman,serif\" font-size=\"14.00\">leaf, impurity 0.05</text>\r\n<text text-anchor=\"middle\" x=\"1462\" y=\"-200.8\" font-family=\"Times New Roman,serif\" font-size=\"14.00\">depth 7, hindex 36, nsamples 5</text>\r\n<text text-anchor=\"middle\" x=\"1462\" y=\"-185.8\" font-family=\"Times New Roman,serif\" font-size=\"14.00\">class Male 60.00%</text>\r\n</g>\r\n<!-- 6d18h&#45;&gt;7d36h -->\r\n<g id=\"edge35\" class=\"edge\"><title>6d18h&#45;&gt;7d36h</title>\r\n<path fill=\"none\" stroke=\"black\" d=\"M1462,-266.868C1462,-258.886 1462,-249.932 1462,-241.384\"/>\r\n<polygon fill=\"black\" stroke=\"black\" points=\"1465.5,-241.25 1462,-231.25 1458.5,-241.25 1465.5,-241.25\"/>\r\n</g>\r\n<!-- 7d37h -->\r\n<g id=\"node37\" class=\"node\"><title>7d37h</title>\r\n<polygon fill=\"none\" stroke=\"red\" points=\"1873,-231 1641,-231 1641,-178 1873,-178 1873,-231\"/>\r\n<text text-anchor=\"middle\" x=\"1757\" y=\"-215.8\" font-family=\"Times New Roman,serif\" font-size=\"14.00\">weight &#45; 158.66, impurity 0.45</text>\r\n<text text-anchor=\"middle\" x=\"1757\" y=\"-200.8\" font-family=\"Times New Roman,serif\" font-size=\"14.00\">depth 7, hindex 37, nsamples 46</text>\r\n<text text-anchor=\"middle\" x=\"1757\" y=\"-185.8\" font-family=\"Times New Roman,serif\" font-size=\"14.00\">class Female 54.35% impr decr 1.47%</text>\r\n</g>\r\n<!-- 6d18h&#45;&gt;7d37h -->\r\n<g id=\"edge36\" class=\"edge\"><title>6d18h&#45;&gt;7d37h</title>\r\n<path fill=\"none\" stroke=\"black\" d=\"M1548.52,-266.985C1583.64,-256.627 1624.36,-244.619 1660.44,-233.977\"/>\r\n<polygon fill=\"black\" stroke=\"black\" points=\"1661.88,-237.2 1670.49,-231.015 1659.9,-230.486 1661.88,-237.2\"/>\r\n</g>\r\n<!-- 8d74h -->\r\n<g id=\"node38\" class=\"node\"><title>8d74h</title>\r\n<polygon fill=\"none\" stroke=\"red\" points=\"1873,-142 1641,-142 1641,-89 1873,-89 1873,-142\"/>\r\n<text text-anchor=\"middle\" x=\"1757\" y=\"-126.8\" font-family=\"Times New Roman,serif\" font-size=\"14.00\">height &#45; 66.28, impurity 0.22</text>\r\n<text text-anchor=\"middle\" x=\"1757\" y=\"-111.8\" font-family=\"Times New Roman,serif\" font-size=\"14.00\">depth 8, hindex 74, nsamples 22</text>\r\n<text text-anchor=\"middle\" x=\"1757\" y=\"-96.8\" font-family=\"Times New Roman,serif\" font-size=\"14.00\">class Female 63.64% impr decr 0.60%</text>\r\n</g>\r\n<!-- 7d37h&#45;&gt;8d74h -->\r\n<g id=\"edge37\" class=\"edge\"><title>7d37h&#45;&gt;8d74h</title>\r\n<path fill=\"none\" stroke=\"black\" d=\"M1757,-177.868C1757,-169.886 1757,-160.932 1757,-152.384\"/>\r\n<polygon fill=\"black\" stroke=\"black\" points=\"1760.5,-152.25 1757,-142.25 1753.5,-152.25 1760.5,-152.25\"/>\r\n</g>\r\n<!-- 8d75h -->\r\n<g id=\"node39\" class=\"node\"><title>8d75h</title>\r\n<polygon fill=\"none\" stroke=\"blue\" points=\"2126.5,-142 1907.5,-142 1907.5,-89 2126.5,-89 2126.5,-142\"/>\r\n<text text-anchor=\"middle\" x=\"2017\" y=\"-126.8\" font-family=\"Times New Roman,serif\" font-size=\"14.00\">weight &#45; 160.56, impurity 0.26</text>\r\n<text text-anchor=\"middle\" x=\"2017\" y=\"-111.8\" font-family=\"Times New Roman,serif\" font-size=\"14.00\">depth 8, hindex 75, nsamples 24</text>\r\n<text text-anchor=\"middle\" x=\"2017\" y=\"-96.8\" font-family=\"Times New Roman,serif\" font-size=\"14.00\">class Male 54.17% impr decr 0.67%</text>\r\n</g>\r\n<!-- 7d37h&#45;&gt;8d75h -->\r\n<g id=\"edge38\" class=\"edge\"><title>7d37h&#45;&gt;8d75h</title>\r\n<path fill=\"none\" stroke=\"black\" d=\"M1833.25,-177.985C1863.94,-167.716 1899.48,-155.824 1931.08,-145.25\"/>\r\n<polygon fill=\"black\" stroke=\"black\" points=\"1932.38,-148.507 1940.75,-142.015 1930.16,-141.869 1932.38,-148.507\"/>\r\n</g>\r\n<!-- 9d148h -->\r\n<g id=\"node40\" class=\"node\"><title>9d148h</title>\r\n<polygon fill=\"none\" stroke=\"blue\" points=\"1679.5,-53 1476.5,-53 1476.5,-0 1679.5,-0 1679.5,-53\"/>\r\n<text text-anchor=\"middle\" x=\"1578\" y=\"-37.8\" font-family=\"Times New Roman,serif\" font-size=\"14.00\">leaf, impurity 0.27</text>\r\n<text text-anchor=\"middle\" x=\"1578\" y=\"-22.8\" font-family=\"Times New Roman,serif\" font-size=\"14.00\">depth 9, hindex 148, nsamples 12</text>\r\n<text text-anchor=\"middle\" x=\"1578\" y=\"-7.8\" font-family=\"Times New Roman,serif\" font-size=\"14.00\">class Male 50.00%</text>\r\n</g>\r\n<!-- 8d74h&#45;&gt;9d148h -->\r\n<g id=\"edge39\" class=\"edge\"><title>8d74h&#45;&gt;9d148h</title>\r\n<path fill=\"none\" stroke=\"black\" d=\"M1704.26,-88.8677C1684.05,-79.0438 1660.81,-67.7484 1639.82,-57.5477\"/>\r\n<polygon fill=\"black\" stroke=\"black\" points=\"1641.19,-54.3228 1630.67,-53.0993 1638.13,-60.6186 1641.19,-54.3228\"/>\r\n</g>\r\n<!-- 9d149h -->\r\n<g id=\"node41\" class=\"node\"><title>9d149h</title>\r\n<polygon fill=\"none\" stroke=\"red\" points=\"1900.5,-53 1697.5,-53 1697.5,-0 1900.5,-0 1900.5,-53\"/>\r\n<text text-anchor=\"middle\" x=\"1799\" y=\"-37.8\" font-family=\"Times New Roman,serif\" font-size=\"14.00\">leaf, impurity 0.15</text>\r\n<text text-anchor=\"middle\" x=\"1799\" y=\"-22.8\" font-family=\"Times New Roman,serif\" font-size=\"14.00\">depth 9, hindex 149, nsamples 10</text>\r\n<text text-anchor=\"middle\" x=\"1799\" y=\"-7.8\" font-family=\"Times New Roman,serif\" font-size=\"14.00\">class Female 80.00%</text>\r\n</g>\r\n<!-- 8d74h&#45;&gt;9d149h -->\r\n<g id=\"edge40\" class=\"edge\"><title>8d74h&#45;&gt;9d149h</title>\r\n<path fill=\"none\" stroke=\"black\" d=\"M1769.37,-88.8677C1773.4,-80.5348 1777.93,-71.1431 1782.22,-62.2588\"/>\r\n<polygon fill=\"black\" stroke=\"black\" points=\"1785.37,-63.7769 1786.57,-53.2497 1779.07,-60.7336 1785.37,-63.7769\"/>\r\n</g>\r\n<!-- 9d150h -->\r\n<g id=\"node42\" class=\"node\"><title>9d150h</title>\r\n<polygon fill=\"none\" stroke=\"red\" points=\"2115.5,-53 1918.5,-53 1918.5,-0 2115.5,-0 2115.5,-53\"/>\r\n<text text-anchor=\"middle\" x=\"2017\" y=\"-37.8\" font-family=\"Times New Roman,serif\" font-size=\"14.00\">leaf, impurity 0.17</text>\r\n<text text-anchor=\"middle\" x=\"2017\" y=\"-22.8\" font-family=\"Times New Roman,serif\" font-size=\"14.00\">depth 9, hindex 150, nsamples 9</text>\r\n<text text-anchor=\"middle\" x=\"2017\" y=\"-7.8\" font-family=\"Times New Roman,serif\" font-size=\"14.00\">class Female 66.67%</text>\r\n</g>\r\n<!-- 8d75h&#45;&gt;9d150h -->\r\n<g id=\"edge41\" class=\"edge\"><title>8d75h&#45;&gt;9d150h</title>\r\n<path fill=\"none\" stroke=\"black\" d=\"M2017,-88.8677C2017,-80.8856 2017,-71.9321 2017,-63.3836\"/>\r\n<polygon fill=\"black\" stroke=\"black\" points=\"2020.5,-63.2497 2017,-53.2497 2013.5,-63.2498 2020.5,-63.2497\"/>\r\n</g>\r\n<!-- 9d151h -->\r\n<g id=\"node43\" class=\"node\"><title>9d151h</title>\r\n<polygon fill=\"none\" stroke=\"blue\" points=\"2336.5,-53 2133.5,-53 2133.5,-0 2336.5,-0 2336.5,-53\"/>\r\n<text text-anchor=\"middle\" x=\"2235\" y=\"-37.8\" font-family=\"Times New Roman,serif\" font-size=\"14.00\">leaf, impurity 0.28</text>\r\n<text text-anchor=\"middle\" x=\"2235\" y=\"-22.8\" font-family=\"Times New Roman,serif\" font-size=\"14.00\">depth 9, hindex 151, nsamples 15</text>\r\n<text text-anchor=\"middle\" x=\"2235\" y=\"-7.8\" font-family=\"Times New Roman,serif\" font-size=\"14.00\">class Male 66.67%</text>\r\n</g>\r\n<!-- 8d75h&#45;&gt;9d151h -->\r\n<g id=\"edge42\" class=\"edge\"><title>8d75h&#45;&gt;9d151h</title>\r\n<path fill=\"none\" stroke=\"black\" d=\"M2080.93,-88.985C2106.22,-78.8929 2135.44,-67.2333 2161.59,-56.7984\"/>\r\n<polygon fill=\"black\" stroke=\"black\" points=\"2163.08,-59.9719 2171.07,-53.0146 2160.48,-53.4705 2163.08,-59.9719\"/>\r\n</g>\r\n<!-- 3d6h -->\r\n<g id=\"node46\" class=\"node\"><title>3d6h</title>\r\n<polygon fill=\"none\" stroke=\"blue\" points=\"1722.5,-587 1503.5,-587 1503.5,-534 1722.5,-534 1722.5,-587\"/>\r\n<text text-anchor=\"middle\" x=\"1613\" y=\"-571.8\" font-family=\"Times New Roman,serif\" font-size=\"14.00\">weight &#45; 185.20, impurity 0.12</text>\r\n<text text-anchor=\"middle\" x=\"1613\" y=\"-556.8\" font-family=\"Times New Roman,serif\" font-size=\"14.00\">depth 3, hindex 6, nsamples 177</text>\r\n<text text-anchor=\"middle\" x=\"1613\" y=\"-541.8\" font-family=\"Times New Roman,serif\" font-size=\"14.00\">class Male 90.40% impr decr 2.07%</text>\r\n</g>\r\n<!-- 2d3h&#45;&gt;3d6h -->\r\n<g id=\"edge45\" class=\"edge\"><title>2d3h&#45;&gt;3d6h</title>\r\n<path fill=\"none\" stroke=\"black\" d=\"M1615.82,-622.868C1615.45,-614.886 1615.04,-605.932 1614.65,-597.384\"/>\r\n<polygon fill=\"black\" stroke=\"black\" points=\"1618.14,-597.078 1614.18,-587.25 1611.15,-597.4 1618.14,-597.078\"/>\r\n</g>\r\n<!-- 3d7h -->\r\n<g id=\"node47\" class=\"node\"><title>3d7h</title>\r\n<polygon fill=\"none\" stroke=\"blue\" points=\"1931,-587 1741,-587 1741,-534 1931,-534 1931,-587\"/>\r\n<text text-anchor=\"middle\" x=\"1836\" y=\"-571.8\" font-family=\"Times New Roman,serif\" font-size=\"14.00\">leaf, impurity 0.00</text>\r\n<text text-anchor=\"middle\" x=\"1836\" y=\"-556.8\" font-family=\"Times New Roman,serif\" font-size=\"14.00\">depth 3, hindex 7, nsamples 89</text>\r\n<text text-anchor=\"middle\" x=\"1836\" y=\"-541.8\" font-family=\"Times New Roman,serif\" font-size=\"14.00\">class Male 100.00%</text>\r\n</g>\r\n<!-- 2d3h&#45;&gt;3d7h -->\r\n<g id=\"edge46\" class=\"edge\"><title>2d3h&#45;&gt;3d7h</title>\r\n<path fill=\"none\" stroke=\"black\" d=\"M1681.23,-622.985C1706.63,-612.893 1735.98,-601.233 1762.25,-590.798\"/>\r\n<polygon fill=\"black\" stroke=\"black\" points=\"1763.77,-593.959 1771.77,-587.015 1761.19,-587.454 1763.77,-593.959\"/>\r\n</g>\r\n<!-- 4d12h -->\r\n<g id=\"node48\" class=\"node\"><title>4d12h</title>\r\n<polygon fill=\"none\" stroke=\"blue\" points=\"1702.5,-498 1505.5,-498 1505.5,-445 1702.5,-445 1702.5,-498\"/>\r\n<text text-anchor=\"middle\" x=\"1604\" y=\"-482.8\" font-family=\"Times New Roman,serif\" font-size=\"14.00\">leaf, impurity 0.15</text>\r\n<text text-anchor=\"middle\" x=\"1604\" y=\"-467.8\" font-family=\"Times New Roman,serif\" font-size=\"14.00\">depth 4, hindex 12, nsamples 70</text>\r\n<text text-anchor=\"middle\" x=\"1604\" y=\"-452.8\" font-family=\"Times New Roman,serif\" font-size=\"14.00\">class Male 75.71%</text>\r\n</g>\r\n<!-- 3d6h&#45;&gt;4d12h -->\r\n<g id=\"edge47\" class=\"edge\"><title>3d6h&#45;&gt;4d12h</title>\r\n<path fill=\"none\" stroke=\"black\" d=\"M1610.35,-533.868C1609.52,-525.886 1608.6,-516.932 1607.71,-508.384\"/>\r\n<polygon fill=\"black\" stroke=\"black\" points=\"1611.17,-507.836 1606.66,-498.25 1604.21,-508.557 1611.17,-507.836\"/>\r\n</g>\r\n<!-- 4d13h -->\r\n<g id=\"node49\" class=\"node\"><title>4d13h</title>\r\n<polygon fill=\"none\" stroke=\"blue\" points=\"1923.5,-498 1720.5,-498 1720.5,-445 1923.5,-445 1923.5,-498\"/>\r\n<text text-anchor=\"middle\" x=\"1822\" y=\"-482.8\" font-family=\"Times New Roman,serif\" font-size=\"14.00\">leaf, impurity 0.00</text>\r\n<text text-anchor=\"middle\" x=\"1822\" y=\"-467.8\" font-family=\"Times New Roman,serif\" font-size=\"14.00\">depth 4, hindex 13, nsamples 107</text>\r\n<text text-anchor=\"middle\" x=\"1822\" y=\"-452.8\" font-family=\"Times New Roman,serif\" font-size=\"14.00\">class Male 100.00%</text>\r\n</g>\r\n<!-- 3d6h&#45;&gt;4d13h -->\r\n<g id=\"edge48\" class=\"edge\"><title>3d6h&#45;&gt;4d13h</title>\r\n<path fill=\"none\" stroke=\"black\" d=\"M1674.29,-533.985C1698.43,-523.937 1726.3,-512.336 1751.29,-501.936\"/>\r\n<polygon fill=\"black\" stroke=\"black\" points=\"1752.82,-505.089 1760.71,-498.015 1750.13,-498.626 1752.82,-505.089\"/>\r\n</g>\r\n</g>\r\n</svg>\r\n"
     },
     "metadata": {},
     "execution_count": 5
    }
   ],
   "source": [
    "%%time\n",
    "model = CustomDecisionTreeClassifier(max_depth=10, debug=False, criterion='gini', random_state=1, splitter='random', min_impurity_decrease=0.002, min_samples_split=10, min_samples_leaf=4)\n",
    "model.fit(features_train.values, target_train.values)\n",
    "test_model(model)\n",
    "visualize_tree(model)"
   ]
  },
  {
   "source": [
    "# RandomForestClassifier"
   ],
   "cell_type": "markdown",
   "metadata": {}
  },
  {
   "cell_type": "code",
   "execution_count": 6,
   "metadata": {},
   "outputs": [
    {
     "output_type": "stream",
     "name": "stdout",
     "text": [
      "train score = 0.928, valid score f1 = 0.916, depth 10, name RandomForestClassifier\n"
     ]
    }
   ],
   "source": [
    "from mlscratchnk.supervised.random_forest import RandomForestClassifier as CustomRandomForestClassifier\n",
    "\n",
    "model = CustomRandomForestClassifier(n_estimators=20, max_features='max', max_depth=10, random_state=1, min_impurity_decrease=0.002, min_samples_split=7, min_samples_leaf=4)\n",
    "\n",
    "model.fit(features_train.values, target_train.values)\n",
    "test_model(model)"
   ]
  },
  {
   "source": [
    "## LogisticRegression\n",
    "\n",
    "0. Should we scale data before?\n",
    "1. Calculate loss properly\n",
    "2. Multiclass \n",
    "3. Tolerance for stopping"
   ],
   "cell_type": "markdown",
   "metadata": {}
  },
  {
   "cell_type": "code",
   "execution_count": 7,
   "metadata": {
    "tags": []
   },
   "outputs": [
    {
     "output_type": "stream",
     "name": "stdout",
     "text": [
      "train score = 0.931, valid score f1 = 0.934, depth None, name LogisticRegression\nWall time: 1.2 s\n"
     ]
    },
    {
     "output_type": "execute_result",
     "data": {
      "text/plain": [
       "999"
      ]
     },
     "metadata": {},
     "execution_count": 7
    }
   ],
   "source": [
    "%%time\n",
    "from logistic_regression import LogisticRegression as CustomLogisticRegression\n",
    "\n",
    "model = CustomLogisticRegression(random_state=1, learning_rate=0.1, max_iters=1000, verbose=False)\n",
    "model.fit(features_train.values, target_train.values)\n",
    "test_model(model)\n",
    "model.get_current_iterations()\n"
   ]
  },
  {
   "source": [
    "# GradientBoosting"
   ],
   "cell_type": "markdown",
   "metadata": {}
  },
  {
   "cell_type": "code",
   "execution_count": 10,
   "metadata": {},
   "outputs": [
    {
     "output_type": "error",
     "ename": "ValueError",
     "evalue": "operands could not be broadcast together with shapes (750,2) (750,) (750,2) ",
     "traceback": [
      "\u001b[1;31m---------------------------------------------------------------------------\u001b[0m",
      "\u001b[1;31mValueError\u001b[0m                                Traceback (most recent call last)",
      "\u001b[1;32m<ipython-input-10-29191e9dfa7a>\u001b[0m in \u001b[0;36m<module>\u001b[1;34m\u001b[0m\n\u001b[0;32m      1\u001b[0m \u001b[0mmodel\u001b[0m \u001b[1;33m=\u001b[0m \u001b[0mGradientBoostingClassifier\u001b[0m\u001b[1;33m(\u001b[0m\u001b[0mn_estimators\u001b[0m\u001b[1;33m=\u001b[0m\u001b[1;36m10\u001b[0m\u001b[1;33m,\u001b[0m \u001b[0mmax_depth\u001b[0m\u001b[1;33m=\u001b[0m\u001b[1;36m6\u001b[0m\u001b[1;33m,\u001b[0m \u001b[0mrandom_state\u001b[0m\u001b[1;33m=\u001b[0m\u001b[1;36m1\u001b[0m\u001b[1;33m,\u001b[0m \u001b[0mmin_impurity_decrease\u001b[0m\u001b[1;33m=\u001b[0m\u001b[1;36m0.005\u001b[0m\u001b[1;33m,\u001b[0m \u001b[0mmin_samples_split\u001b[0m\u001b[1;33m=\u001b[0m\u001b[1;36m10\u001b[0m\u001b[1;33m,\u001b[0m \u001b[0mmin_samples_leaf\u001b[0m\u001b[1;33m=\u001b[0m\u001b[1;36m4\u001b[0m\u001b[1;33m)\u001b[0m\u001b[1;33m\u001b[0m\u001b[1;33m\u001b[0m\u001b[0m\n\u001b[1;32m----> 2\u001b[1;33m \u001b[0mmodel\u001b[0m\u001b[1;33m.\u001b[0m\u001b[0mfit\u001b[0m\u001b[1;33m(\u001b[0m\u001b[0mfeatures_train\u001b[0m\u001b[1;33m.\u001b[0m\u001b[0mvalues\u001b[0m\u001b[1;33m,\u001b[0m \u001b[0mtarget_train\u001b[0m\u001b[1;33m.\u001b[0m\u001b[0mvalues\u001b[0m\u001b[1;33m)\u001b[0m\u001b[1;33m\u001b[0m\u001b[1;33m\u001b[0m\u001b[0m\n\u001b[0m\u001b[0;32m      3\u001b[0m \u001b[1;33m\u001b[0m\u001b[0m\n\u001b[0;32m      4\u001b[0m \u001b[0mtest_model\u001b[0m\u001b[1;33m(\u001b[0m\u001b[0mmodel\u001b[0m\u001b[1;33m)\u001b[0m\u001b[1;33m\u001b[0m\u001b[1;33m\u001b[0m\u001b[0m\n",
      "\u001b[1;32mc:\\data-science\\ml-from-scratch-neokrot\\mlscratchnk\\supervised\\gradient_boost.py\u001b[0m in \u001b[0;36mfit\u001b[1;34m(self, X, y)\u001b[0m\n\u001b[0;32m     81\u001b[0m \u001b[1;33m\u001b[0m\u001b[0m\n\u001b[0;32m     82\u001b[0m     \u001b[1;32mdef\u001b[0m \u001b[0mfit\u001b[0m\u001b[1;33m(\u001b[0m\u001b[0mself\u001b[0m\u001b[1;33m,\u001b[0m \u001b[0mX\u001b[0m\u001b[1;33m,\u001b[0m \u001b[0my\u001b[0m\u001b[1;33m)\u001b[0m\u001b[1;33m:\u001b[0m\u001b[1;33m\u001b[0m\u001b[1;33m\u001b[0m\u001b[0m\n\u001b[1;32m---> 83\u001b[1;33m         \u001b[0msuper\u001b[0m\u001b[1;33m(\u001b[0m\u001b[1;33m)\u001b[0m\u001b[1;33m.\u001b[0m\u001b[0mfit\u001b[0m\u001b[1;33m(\u001b[0m\u001b[0mX\u001b[0m\u001b[1;33m,\u001b[0m \u001b[0mself\u001b[0m\u001b[1;33m.\u001b[0m\u001b[0mto_categorical\u001b[0m\u001b[1;33m(\u001b[0m\u001b[0my\u001b[0m\u001b[1;33m)\u001b[0m\u001b[1;33m)\u001b[0m\u001b[1;33m\u001b[0m\u001b[1;33m\u001b[0m\u001b[0m\n\u001b[0m\u001b[0;32m     84\u001b[0m \u001b[1;33m\u001b[0m\u001b[0m\n\u001b[0;32m     85\u001b[0m     \u001b[1;32mdef\u001b[0m \u001b[0mpredict\u001b[0m\u001b[1;33m(\u001b[0m\u001b[0mself\u001b[0m\u001b[1;33m,\u001b[0m \u001b[0mX\u001b[0m\u001b[1;33m)\u001b[0m\u001b[1;33m:\u001b[0m\u001b[1;33m\u001b[0m\u001b[1;33m\u001b[0m\u001b[0m\n",
      "\u001b[1;32mc:\\data-science\\ml-from-scratch-neokrot\\mlscratchnk\\supervised\\gradient_boost.py\u001b[0m in \u001b[0;36mfit\u001b[1;34m(self, X, y)\u001b[0m\n\u001b[0;32m     51\u001b[0m             \u001b[0mupdate\u001b[0m \u001b[1;33m=\u001b[0m \u001b[0mself\u001b[0m\u001b[1;33m.\u001b[0m\u001b[0mtrees\u001b[0m\u001b[1;33m[\u001b[0m\u001b[0mi\u001b[0m\u001b[1;33m]\u001b[0m\u001b[1;33m.\u001b[0m\u001b[0mpredict\u001b[0m\u001b[1;33m(\u001b[0m\u001b[0mX\u001b[0m\u001b[1;33m)\u001b[0m\u001b[1;33m\u001b[0m\u001b[1;33m\u001b[0m\u001b[0m\n\u001b[0;32m     52\u001b[0m             \u001b[1;31m# Update y prediction\u001b[0m\u001b[1;33m\u001b[0m\u001b[1;33m\u001b[0m\u001b[1;33m\u001b[0m\u001b[0m\n\u001b[1;32m---> 53\u001b[1;33m             \u001b[0my_pred\u001b[0m \u001b[1;33m-=\u001b[0m \u001b[0mnp\u001b[0m\u001b[1;33m.\u001b[0m\u001b[0mmultiply\u001b[0m\u001b[1;33m(\u001b[0m\u001b[0mself\u001b[0m\u001b[1;33m.\u001b[0m\u001b[0mlearning_rate\u001b[0m\u001b[1;33m,\u001b[0m \u001b[0mupdate\u001b[0m\u001b[1;33m)\u001b[0m\u001b[1;33m\u001b[0m\u001b[1;33m\u001b[0m\u001b[0m\n\u001b[0m\u001b[0;32m     54\u001b[0m \u001b[1;33m\u001b[0m\u001b[0m\n\u001b[0;32m     55\u001b[0m \u001b[1;33m\u001b[0m\u001b[0m\n",
      "\u001b[1;31mValueError\u001b[0m: operands could not be broadcast together with shapes (750,2) (750,) (750,2) "
     ]
    }
   ],
   "source": [
    "model = GradientBoostingClassifier(n_estimators=10, max_depth=6, random_state=1, min_impurity_decrease=0.005, min_samples_split=10, min_samples_leaf=4)\n",
    "model.fit(features_train.values, target_train.values)\n",
    "\n",
    "test_model(model)"
   ]
  },
  {
   "source": [
    "## Compare with sklearn implementations"
   ],
   "cell_type": "markdown",
   "metadata": {}
  },
  {
   "cell_type": "code",
   "execution_count": 7,
   "metadata": {},
   "outputs": [
    {
     "output_type": "stream",
     "name": "stdout",
     "text": [
      "train score = 0.921, valid score f1 = 0.908, depth 4, name DecisionTreeClassifier\n",
      "train score = 0.940, valid score f1 = 0.900, depth None, name RandomForestClassifier\n",
      "train score = 0.937, valid score f1 = 0.923, depth None, name LogisticRegression\n",
      "dummy score 0.504\n",
      "Wall time: 129 ms\n"
     ]
    }
   ],
   "source": [
    "%%time\n",
    "\n",
    "model = DecisionTreeClassifier(max_depth=None, splitter='random', random_state=1, min_impurity_decrease=0.005, min_samples_split=10, min_samples_leaf=4)\n",
    "model.fit(features_train, target_train)\n",
    "\n",
    "test_model(model)\n",
    "\n",
    "model = RandomForestClassifier(n_estimators=10, max_depth=6, random_state=1, min_impurity_decrease=0.005, min_samples_split=10, min_samples_leaf=4)\n",
    "model.fit(features_train, target_train)\n",
    "\n",
    "test_model(model)\n",
    "\n",
    "model = LogisticRegression(penalty='l2', C=1, max_iter=100, random_state=1)\n",
    "model.fit(features_train, target_train)\n",
    "test_model(model)\n",
    "\n",
    "dummy_classifier = DummyClassifier(random_state=1)\n",
    "dummy_classifier.fit(features_train, target_train)\n",
    "print(f'dummy score {f1_score(target_valid, dummy_classifier.predict(features_valid)):0.3f}')"
   ]
  },
  {
   "cell_type": "code",
   "execution_count": 44,
   "metadata": {},
   "outputs": [
    {
     "output_type": "execute_result",
     "data": {
      "text/plain": [
       "array([3.33333333])"
      ]
     },
     "metadata": {},
     "execution_count": 44
    }
   ],
   "source": [
    "def calculate_variance(X):\n",
    "    if len(X.shape) == 1:\n",
    "        X = X.reshape((-1, 1))\n",
    "    \"\"\" Return the variance of the features in dataset X \"\"\"\n",
    "    mean = np.full(shape=np.shape(X), fill_value=np.mean(X, axis=0))\n",
    "    n_samples = np.shape(X)[0]\n",
    "    variance = (1 / n_samples) * np.diag((X - mean).T.dot(X - mean))\n",
    "    \n",
    "    return variance\n",
    "\n",
    "a = np.array([1, 2, 3, 4, 5, 0, 0, 0, 0])\n",
    "\n",
    "calculate_variance(a)"
   ]
  },
  {
   "cell_type": "code",
   "execution_count": null,
   "metadata": {},
   "outputs": [],
   "source": []
  }
 ]
}