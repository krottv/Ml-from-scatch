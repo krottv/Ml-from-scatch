{
 "metadata": {
  "language_info": {
   "codemirror_mode": {
    "name": "ipython",
    "version": 3
   },
   "file_extension": ".py",
   "mimetype": "text/x-python",
   "name": "python",
   "nbconvert_exporter": "python",
   "pygments_lexer": "ipython3",
   "version": "3.8.6-final"
  },
  "orig_nbformat": 2,
  "kernelspec": {
   "name": "python3",
   "display_name": "Python 3",
   "language": "python"
  }
 },
 "nbformat": 4,
 "nbformat_minor": 2,
 "cells": [
  {
   "source": [
    "# DesicionTreeClassifier\n",
    "\n",
    "Decision tree learners create biased trees if some classes dominate. It is therefore recommended to balance the dataset prior to fitting with the decision tree.\n",
    "\n",
    "Decision-tree learners can create over-complex trees that do not generalise the data well. This is called overfitting. Mechanisms such as pruning, setting the minimum number of samples required at a leaf node or setting the maximum depth of the tree are necessary to avoid this problem.\n",
    "\n",
    "Decision trees can be unstable because small variations in the data might result in a completely different tree being generated. This problem is mitigated by using decision trees within an ensemble."
   ],
   "cell_type": "markdown",
   "metadata": {}
  },
  {
   "cell_type": "code",
   "execution_count": 14,
   "metadata": {},
   "outputs": [
    {
     "output_type": "stream",
     "name": "stdout",
     "text": [
      "The autoreload extension is already loaded. To reload it, use:\n  %reload_ext autoreload\n"
     ]
    }
   ],
   "source": [
    "%load_ext autoreload\n",
    "%autoreload 2\n",
    "import numpy as np\n",
    "import pandas as pd\n",
    "from sklearn.metrics import f1_score\n",
    "from decision_tree import DecisionTreeClassifier as CustomDecisionTreeClassifier\n",
    "import decision_tree_visualizer\n",
    "from sklearn.tree import DecisionTreeClassifier\n",
    "from sklearn.ensemble import RandomForestClassifier\n",
    "from sklearn.dummy import DummyClassifier\n",
    "from sklearn.linear_model import LogisticRegression\n",
    "from sklearn.model_selection import train_test_split\n"
   ]
  },
  {
   "cell_type": "code",
   "execution_count": 9,
   "metadata": {},
   "outputs": [
    {
     "output_type": "execute_result",
     "data": {
      "text/plain": [
       "         height      weight\n",
       "5119  64.822645  142.697039\n",
       "2061  67.077931  181.526492\n",
       "5265  62.934926  132.616525\n",
       "8780  62.589982  123.643445\n",
       "358   66.762110  167.700496\n",
       "...         ...         ...\n",
       "3013  67.448656  170.505749\n",
       "8451  62.015811  133.652830\n",
       "2975  70.779670  193.759932\n",
       "3803  71.968141  207.853053\n",
       "3937  68.482334  178.547208\n",
       "\n",
       "[750 rows x 2 columns]"
      ],
      "text/html": "<div>\n<style scoped>\n    .dataframe tbody tr th:only-of-type {\n        vertical-align: middle;\n    }\n\n    .dataframe tbody tr th {\n        vertical-align: top;\n    }\n\n    .dataframe thead th {\n        text-align: right;\n    }\n</style>\n<table border=\"1\" class=\"dataframe\">\n  <thead>\n    <tr style=\"text-align: right;\">\n      <th></th>\n      <th>height</th>\n      <th>weight</th>\n    </tr>\n  </thead>\n  <tbody>\n    <tr>\n      <th>5119</th>\n      <td>64.822645</td>\n      <td>142.697039</td>\n    </tr>\n    <tr>\n      <th>2061</th>\n      <td>67.077931</td>\n      <td>181.526492</td>\n    </tr>\n    <tr>\n      <th>5265</th>\n      <td>62.934926</td>\n      <td>132.616525</td>\n    </tr>\n    <tr>\n      <th>8780</th>\n      <td>62.589982</td>\n      <td>123.643445</td>\n    </tr>\n    <tr>\n      <th>358</th>\n      <td>66.762110</td>\n      <td>167.700496</td>\n    </tr>\n    <tr>\n      <th>...</th>\n      <td>...</td>\n      <td>...</td>\n    </tr>\n    <tr>\n      <th>3013</th>\n      <td>67.448656</td>\n      <td>170.505749</td>\n    </tr>\n    <tr>\n      <th>8451</th>\n      <td>62.015811</td>\n      <td>133.652830</td>\n    </tr>\n    <tr>\n      <th>2975</th>\n      <td>70.779670</td>\n      <td>193.759932</td>\n    </tr>\n    <tr>\n      <th>3803</th>\n      <td>71.968141</td>\n      <td>207.853053</td>\n    </tr>\n    <tr>\n      <th>3937</th>\n      <td>68.482334</td>\n      <td>178.547208</td>\n    </tr>\n  </tbody>\n</table>\n<p>750 rows × 2 columns</p>\n</div>"
     },
     "metadata": {},
     "execution_count": 9
    }
   ],
   "source": [
    "def clean_target(target):\n",
    "    target.loc[target == 'Male'] = 0\n",
    "    target.loc[target == 'Female'] = 1\n",
    "    return target.astype(int)\n",
    "\n",
    "def get_splitted_data(nsamples=None, imbalanced_samples = None):\n",
    "    data = pd.read_csv('weight-height.csv')\n",
    "    data.columns = ['gender', 'height', 'weight']\n",
    "\n",
    "    sub_data = data if nsamples is None else data.sample(nsamples, random_state=45)\n",
    "\n",
    "    if imbalanced_samples is not None:\n",
    "        female_sample = data[data['gender'] == 'Female'].sample(imbalanced_samples, random_state=1)\n",
    "        sub_data = pd.concat([sub_data, female_sample])\n",
    "        sub_data.drop_duplicates(inplace=True)\n",
    "    \n",
    "\n",
    "    features = sub_data.drop('gender', axis=1)\n",
    "    target = clean_target(sub_data['gender'])\n",
    "\n",
    "    #features_train, features_valid, target_train, target_valid \n",
    "    return train_test_split(features, target, test_size=0.25)\n",
    "\n",
    "features_train, features_valid, target_train, target_valid = get_splitted_data(nsamples=1000)\n",
    "features_train"
   ]
  },
  {
   "cell_type": "code",
   "execution_count": 10,
   "metadata": {},
   "outputs": [],
   "source": [
    "color_classes = {0: 'blue', 1: 'red'}\n",
    "label_classes = {0: 'Male', 1: 'Female'}\n",
    "label_features = {0: 'height', 1: 'weight'}\n",
    "\n",
    "def visualize_tree(model):\n",
    "    return decision_tree_visualizer.visualize_result(model.root_node, color_classes, label_classes, label_features, save_pdf=False)\n",
    "\n",
    "\n",
    "def test_model(model):\n",
    "    predicted_train = model.predict(features_train.values)\n",
    "    predicted = model.predict(features_valid.values)\n",
    "    depth = model.get_depth() if hasattr(model, 'get_depth') else None\n",
    "    print(f'train score = {f1_score(target_train.values, predicted_train):.3f}, valid score f1 = {f1_score(target_valid.values, predicted):.3f}, depth {depth}, name {model.__class__.__name__}')"
   ]
  },
  {
   "cell_type": "code",
   "execution_count": 13,
   "metadata": {
    "tags": []
   },
   "outputs": [
    {
     "output_type": "stream",
     "name": "stdout",
     "text": [
      "train score = 0.919, valid score f1 = 0.896, depth 10, name DecisionTreeClassifier\nWall time: 17 ms\n"
     ]
    },
    {
     "output_type": "execute_result",
     "data": {
      "text/plain": [
       "<graphviz.dot.Digraph at 0x14b0d0e13a0>"
      ],
      "image/svg+xml": "<?xml version=\"1.0\" encoding=\"UTF-8\" standalone=\"no\"?>\r\n<!DOCTYPE svg PUBLIC \"-//W3C//DTD SVG 1.1//EN\"\r\n \"http://www.w3.org/Graphics/SVG/1.1/DTD/svg11.dtd\">\r\n<!-- Generated by graphviz version 2.38.0 (20140413.2041)\r\n -->\r\n<!-- Title: %3 Pages: 1 -->\r\n<svg width=\"1352pt\" height=\"934pt\"\r\n viewBox=\"0.00 0.00 1352.00 934.00\" xmlns=\"http://www.w3.org/2000/svg\" xmlns:xlink=\"http://www.w3.org/1999/xlink\">\r\n<g id=\"graph0\" class=\"graph\" transform=\"scale(1 1) rotate(0) translate(4 930)\">\r\n<title>%3</title>\r\n<polygon fill=\"white\" stroke=\"none\" points=\"-4,4 -4,-930 1348,-930 1348,4 -4,4\"/>\r\n<!-- 0d0h -->\r\n<g id=\"node1\" class=\"node\"><title>0d0h</title>\r\n<polygon fill=\"none\" stroke=\"black\" points=\"1061,-926 746,-926 746,-890 1061,-890 1061,-926\"/>\r\n<text text-anchor=\"middle\" x=\"903.5\" y=\"-904.3\" font-family=\"Times New Roman,serif\" font-size=\"14.00\">root node height &#45; 67.97, impurity 0.00, nsamples 750</text>\r\n</g>\r\n<!-- 1d0h -->\r\n<g id=\"node2\" class=\"node\"><title>1d0h</title>\r\n<polygon fill=\"none\" stroke=\"red\" points=\"903.5,-854 671.5,-854 671.5,-801 903.5,-801 903.5,-854\"/>\r\n<text text-anchor=\"middle\" x=\"787.5\" y=\"-838.8\" font-family=\"Times New Roman,serif\" font-size=\"14.00\">weight &#45; 145.42, impurity 0.24</text>\r\n<text text-anchor=\"middle\" x=\"787.5\" y=\"-823.8\" font-family=\"Times New Roman,serif\" font-size=\"14.00\">depth 1, hindex 0, nsamples 484</text>\r\n<text text-anchor=\"middle\" x=\"787.5\" y=\"-808.8\" font-family=\"Times New Roman,serif\" font-size=\"14.00\">class Female 75.41% impr decr 8.18%</text>\r\n</g>\r\n<!-- 0d0h&#45;&gt;1d0h -->\r\n<g id=\"edge1\" class=\"edge\"><title>0d0h&#45;&gt;1d0h</title>\r\n<path fill=\"none\" stroke=\"black\" d=\"M878.33,-889.967C865.286,-881.14 848.94,-870.078 833.722,-859.78\"/>\r\n<polygon fill=\"black\" stroke=\"black\" points=\"835.656,-856.862 825.412,-854.156 831.733,-862.66 835.656,-856.862\"/>\r\n</g>\r\n<!-- 1d1h -->\r\n<g id=\"node3\" class=\"node\"><title>1d1h</title>\r\n<polygon fill=\"none\" stroke=\"blue\" points=\"1119,-854 922,-854 922,-801 1119,-801 1119,-854\"/>\r\n<text text-anchor=\"middle\" x=\"1020.5\" y=\"-838.8\" font-family=\"Times New Roman,serif\" font-size=\"14.00\">leaf, impurity 0.05</text>\r\n<text text-anchor=\"middle\" x=\"1020.5\" y=\"-823.8\" font-family=\"Times New Roman,serif\" font-size=\"14.00\">depth 1, hindex 1, nsamples 266</text>\r\n<text text-anchor=\"middle\" x=\"1020.5\" y=\"-808.8\" font-family=\"Times New Roman,serif\" font-size=\"14.00\">class Male 92.11%</text>\r\n</g>\r\n<!-- 0d0h&#45;&gt;1d1h -->\r\n<g id=\"edge2\" class=\"edge\"><title>0d0h&#45;&gt;1d1h</title>\r\n<path fill=\"none\" stroke=\"black\" d=\"M928.887,-889.967C942.043,-881.14 958.531,-870.078 973.879,-859.78\"/>\r\n<polygon fill=\"black\" stroke=\"black\" points=\"975.907,-862.634 982.261,-854.156 972.007,-856.821 975.907,-862.634\"/>\r\n</g>\r\n<!-- 2d0h -->\r\n<g id=\"node4\" class=\"node\"><title>2d0h</title>\r\n<polygon fill=\"none\" stroke=\"red\" points=\"781.5,-765 549.5,-765 549.5,-712 781.5,-712 781.5,-765\"/>\r\n<text text-anchor=\"middle\" x=\"665.5\" y=\"-749.8\" font-family=\"Times New Roman,serif\" font-size=\"14.00\">weight &#45; 126.55, impurity 0.02</text>\r\n<text text-anchor=\"middle\" x=\"665.5\" y=\"-734.8\" font-family=\"Times New Roman,serif\" font-size=\"14.00\">depth 2, hindex 0, nsamples 280</text>\r\n<text text-anchor=\"middle\" x=\"665.5\" y=\"-719.8\" font-family=\"Times New Roman,serif\" font-size=\"14.00\">class Female 98.57% impr decr 0.43%</text>\r\n</g>\r\n<!-- 1d0h&#45;&gt;2d0h -->\r\n<g id=\"edge3\" class=\"edge\"><title>1d0h&#45;&gt;2d0h</title>\r\n<path fill=\"none\" stroke=\"black\" d=\"M751.556,-800.868C738.518,-791.57 723.631,-780.954 709.947,-771.196\"/>\r\n<polygon fill=\"black\" stroke=\"black\" points=\"711.783,-768.206 701.609,-765.25 707.719,-773.906 711.783,-768.206\"/>\r\n</g>\r\n<!-- 2d1h -->\r\n<g id=\"node5\" class=\"node\"><title>2d1h</title>\r\n<polygon fill=\"none\" stroke=\"blue\" points=\"1019,-765 800,-765 800,-712 1019,-712 1019,-765\"/>\r\n<text text-anchor=\"middle\" x=\"909.5\" y=\"-749.8\" font-family=\"Times New Roman,serif\" font-size=\"14.00\">weight &#45; 186.51, impurity 0.21</text>\r\n<text text-anchor=\"middle\" x=\"909.5\" y=\"-734.8\" font-family=\"Times New Roman,serif\" font-size=\"14.00\">depth 2, hindex 1, nsamples 204</text>\r\n<text text-anchor=\"middle\" x=\"909.5\" y=\"-719.8\" font-family=\"Times New Roman,serif\" font-size=\"14.00\">class Male 56.37% impr decr 0.45%</text>\r\n</g>\r\n<!-- 1d0h&#45;&gt;2d1h -->\r\n<g id=\"edge4\" class=\"edge\"><title>1d0h&#45;&gt;2d1h</title>\r\n<path fill=\"none\" stroke=\"black\" d=\"M823.444,-800.868C836.482,-791.57 851.369,-780.954 865.053,-771.196\"/>\r\n<polygon fill=\"black\" stroke=\"black\" points=\"867.281,-773.906 873.391,-765.25 863.217,-768.206 867.281,-773.906\"/>\r\n</g>\r\n<!-- 3d0h -->\r\n<g id=\"node6\" class=\"node\"><title>3d0h</title>\r\n<polygon fill=\"none\" stroke=\"red\" points=\"531,-676 334,-676 334,-623 531,-623 531,-676\"/>\r\n<text text-anchor=\"middle\" x=\"432.5\" y=\"-660.8\" font-family=\"Times New Roman,serif\" font-size=\"14.00\">leaf, impurity 0.00</text>\r\n<text text-anchor=\"middle\" x=\"432.5\" y=\"-645.8\" font-family=\"Times New Roman,serif\" font-size=\"14.00\">depth 3, hindex 0, nsamples 116</text>\r\n<text text-anchor=\"middle\" x=\"432.5\" y=\"-630.8\" font-family=\"Times New Roman,serif\" font-size=\"14.00\">class Female 100.00%</text>\r\n</g>\r\n<!-- 2d0h&#45;&gt;3d0h -->\r\n<g id=\"edge5\" class=\"edge\"><title>2d0h&#45;&gt;3d0h</title>\r\n<path fill=\"none\" stroke=\"black\" d=\"M597.167,-711.985C569.901,-701.804 538.364,-690.029 510.231,-679.524\"/>\r\n<polygon fill=\"black\" stroke=\"black\" points=\"511.425,-676.234 500.832,-676.015 508.976,-682.792 511.425,-676.234\"/>\r\n</g>\r\n<!-- 3d1h -->\r\n<g id=\"node7\" class=\"node\"><title>3d1h</title>\r\n<polygon fill=\"none\" stroke=\"red\" points=\"781.5,-676 549.5,-676 549.5,-623 781.5,-623 781.5,-676\"/>\r\n<text text-anchor=\"middle\" x=\"665.5\" y=\"-660.8\" font-family=\"Times New Roman,serif\" font-size=\"14.00\">weight &#45; 143.34, impurity 0.03</text>\r\n<text text-anchor=\"middle\" x=\"665.5\" y=\"-645.8\" font-family=\"Times New Roman,serif\" font-size=\"14.00\">depth 3, hindex 1, nsamples 164</text>\r\n<text text-anchor=\"middle\" x=\"665.5\" y=\"-630.8\" font-family=\"Times New Roman,serif\" font-size=\"14.00\">class Female 97.56% impr decr 0.47%</text>\r\n</g>\r\n<!-- 2d0h&#45;&gt;3d1h -->\r\n<g id=\"edge6\" class=\"edge\"><title>2d0h&#45;&gt;3d1h</title>\r\n<path fill=\"none\" stroke=\"black\" d=\"M665.5,-711.868C665.5,-703.886 665.5,-694.932 665.5,-686.384\"/>\r\n<polygon fill=\"black\" stroke=\"black\" points=\"669,-686.25 665.5,-676.25 662,-686.25 669,-686.25\"/>\r\n</g>\r\n<!-- 3d2h -->\r\n<g id=\"node10\" class=\"node\"><title>3d2h</title>\r\n<polygon fill=\"none\" stroke=\"blue\" points=\"1019,-676 800,-676 800,-623 1019,-623 1019,-676\"/>\r\n<text text-anchor=\"middle\" x=\"909.5\" y=\"-660.8\" font-family=\"Times New Roman,serif\" font-size=\"14.00\">weight &#45; 149.05, impurity 0.48</text>\r\n<text text-anchor=\"middle\" x=\"909.5\" y=\"-645.8\" font-family=\"Times New Roman,serif\" font-size=\"14.00\">depth 3, hindex 2, nsamples 197</text>\r\n<text text-anchor=\"middle\" x=\"909.5\" y=\"-630.8\" font-family=\"Times New Roman,serif\" font-size=\"14.00\">class Male 54.82% impr decr 1.66%</text>\r\n</g>\r\n<!-- 2d1h&#45;&gt;3d2h -->\r\n<g id=\"edge9\" class=\"edge\"><title>2d1h&#45;&gt;3d2h</title>\r\n<path fill=\"none\" stroke=\"black\" d=\"M909.5,-711.868C909.5,-703.886 909.5,-694.932 909.5,-686.384\"/>\r\n<polygon fill=\"black\" stroke=\"black\" points=\"913,-686.25 909.5,-676.25 906,-686.25 913,-686.25\"/>\r\n</g>\r\n<!-- 3d3h -->\r\n<g id=\"node11\" class=\"node\"><title>3d3h</title>\r\n<polygon fill=\"none\" stroke=\"blue\" points=\"1220,-676 1037,-676 1037,-623 1220,-623 1220,-676\"/>\r\n<text text-anchor=\"middle\" x=\"1128.5\" y=\"-660.8\" font-family=\"Times New Roman,serif\" font-size=\"14.00\">leaf, impurity 0.00</text>\r\n<text text-anchor=\"middle\" x=\"1128.5\" y=\"-645.8\" font-family=\"Times New Roman,serif\" font-size=\"14.00\">depth 3, hindex 3, nsamples 7</text>\r\n<text text-anchor=\"middle\" x=\"1128.5\" y=\"-630.8\" font-family=\"Times New Roman,serif\" font-size=\"14.00\">class Male 100.00%</text>\r\n</g>\r\n<!-- 2d1h&#45;&gt;3d3h -->\r\n<g id=\"edge10\" class=\"edge\"><title>2d1h&#45;&gt;3d3h</title>\r\n<path fill=\"none\" stroke=\"black\" d=\"M973.727,-711.985C999.132,-701.893 1028.48,-690.233 1054.75,-679.798\"/>\r\n<polygon fill=\"black\" stroke=\"black\" points=\"1056.27,-682.959 1064.27,-676.015 1053.69,-676.454 1056.27,-682.959\"/>\r\n</g>\r\n<!-- 4d2h -->\r\n<g id=\"node8\" class=\"node\"><title>4d2h</title>\r\n<polygon fill=\"none\" stroke=\"red\" points=\"561,-587 364,-587 364,-534 561,-534 561,-587\"/>\r\n<text text-anchor=\"middle\" x=\"462.5\" y=\"-571.8\" font-family=\"Times New Roman,serif\" font-size=\"14.00\">leaf, impurity 0.02</text>\r\n<text text-anchor=\"middle\" x=\"462.5\" y=\"-556.8\" font-family=\"Times New Roman,serif\" font-size=\"14.00\">depth 4, hindex 2, nsamples 149</text>\r\n<text text-anchor=\"middle\" x=\"462.5\" y=\"-541.8\" font-family=\"Times New Roman,serif\" font-size=\"14.00\">class Female 98.66%</text>\r\n</g>\r\n<!-- 3d1h&#45;&gt;4d2h -->\r\n<g id=\"edge7\" class=\"edge\"><title>3d1h&#45;&gt;4d2h</title>\r\n<path fill=\"none\" stroke=\"black\" d=\"M605.965,-622.985C582.623,-612.981 555.688,-601.438 531.504,-591.073\"/>\r\n<polygon fill=\"black\" stroke=\"black\" points=\"532.604,-587.737 522.034,-587.015 529.847,-594.171 532.604,-587.737\"/>\r\n</g>\r\n<!-- 4d3h -->\r\n<g id=\"node9\" class=\"node\"><title>4d3h</title>\r\n<polygon fill=\"none\" stroke=\"red\" points=\"769.5,-587 579.5,-587 579.5,-534 769.5,-534 769.5,-587\"/>\r\n<text text-anchor=\"middle\" x=\"674.5\" y=\"-571.8\" font-family=\"Times New Roman,serif\" font-size=\"14.00\">leaf, impurity 0.02</text>\r\n<text text-anchor=\"middle\" x=\"674.5\" y=\"-556.8\" font-family=\"Times New Roman,serif\" font-size=\"14.00\">depth 4, hindex 3, nsamples 15</text>\r\n<text text-anchor=\"middle\" x=\"674.5\" y=\"-541.8\" font-family=\"Times New Roman,serif\" font-size=\"14.00\">class Female 86.67%</text>\r\n</g>\r\n<!-- 3d1h&#45;&gt;4d3h -->\r\n<g id=\"edge8\" class=\"edge\"><title>3d1h&#45;&gt;4d3h</title>\r\n<path fill=\"none\" stroke=\"black\" d=\"M668.152,-622.868C668.977,-614.886 669.904,-605.932 670.788,-597.384\"/>\r\n<polygon fill=\"black\" stroke=\"black\" points=\"674.289,-597.557 671.836,-587.25 667.326,-596.836 674.289,-597.557\"/>\r\n</g>\r\n<!-- 4d4h -->\r\n<g id=\"node12\" class=\"node\"><title>4d4h</title>\r\n<polygon fill=\"none\" stroke=\"red\" points=\"995.5,-587 805.5,-587 805.5,-534 995.5,-534 995.5,-587\"/>\r\n<text text-anchor=\"middle\" x=\"900.5\" y=\"-571.8\" font-family=\"Times New Roman,serif\" font-size=\"14.00\">leaf, impurity 0.03</text>\r\n<text text-anchor=\"middle\" x=\"900.5\" y=\"-556.8\" font-family=\"Times New Roman,serif\" font-size=\"14.00\">depth 4, hindex 4, nsamples 18</text>\r\n<text text-anchor=\"middle\" x=\"900.5\" y=\"-541.8\" font-family=\"Times New Roman,serif\" font-size=\"14.00\">class Female 83.33%</text>\r\n</g>\r\n<!-- 3d2h&#45;&gt;4d4h -->\r\n<g id=\"edge11\" class=\"edge\"><title>3d2h&#45;&gt;4d4h</title>\r\n<path fill=\"none\" stroke=\"black\" d=\"M906.848,-622.868C906.023,-614.886 905.096,-605.932 904.212,-597.384\"/>\r\n<polygon fill=\"black\" stroke=\"black\" points=\"907.674,-596.836 903.164,-587.25 900.711,-597.557 907.674,-596.836\"/>\r\n</g>\r\n<!-- 4d5h -->\r\n<g id=\"node13\" class=\"node\"><title>4d5h</title>\r\n<polygon fill=\"none\" stroke=\"blue\" points=\"1233,-587 1014,-587 1014,-534 1233,-534 1233,-587\"/>\r\n<text text-anchor=\"middle\" x=\"1123.5\" y=\"-571.8\" font-family=\"Times New Roman,serif\" font-size=\"14.00\">weight &#45; 181.25, impurity 0.44</text>\r\n<text text-anchor=\"middle\" x=\"1123.5\" y=\"-556.8\" font-family=\"Times New Roman,serif\" font-size=\"14.00\">depth 4, hindex 5, nsamples 179</text>\r\n<text text-anchor=\"middle\" x=\"1123.5\" y=\"-541.8\" font-family=\"Times New Roman,serif\" font-size=\"14.00\">class Male 58.66% impr decr 0.62%</text>\r\n</g>\r\n<!-- 3d2h&#45;&gt;4d5h -->\r\n<g id=\"edge12\" class=\"edge\"><title>3d2h&#45;&gt;4d5h</title>\r\n<path fill=\"none\" stroke=\"black\" d=\"M972.261,-622.985C997.085,-612.893 1025.77,-601.233 1051.43,-590.798\"/>\r\n<polygon fill=\"black\" stroke=\"black\" points=\"1052.79,-594.023 1060.74,-587.015 1050.16,-587.538 1052.79,-594.023\"/>\r\n</g>\r\n<!-- 5d10h -->\r\n<g id=\"node14\" class=\"node\"><title>5d10h</title>\r\n<polygon fill=\"none\" stroke=\"blue\" points=\"1120,-498 901,-498 901,-445 1120,-445 1120,-498\"/>\r\n<text text-anchor=\"middle\" x=\"1010.5\" y=\"-482.8\" font-family=\"Times New Roman,serif\" font-size=\"14.00\">weight &#45; 174.68, impurity 0.46</text>\r\n<text text-anchor=\"middle\" x=\"1010.5\" y=\"-467.8\" font-family=\"Times New Roman,serif\" font-size=\"14.00\">depth 5, hindex 10, nsamples 169</text>\r\n<text text-anchor=\"middle\" x=\"1010.5\" y=\"-452.8\" font-family=\"Times New Roman,serif\" font-size=\"14.00\">class Male 56.21% impr decr 1.88%</text>\r\n</g>\r\n<!-- 4d5h&#45;&gt;5d10h -->\r\n<g id=\"edge13\" class=\"edge\"><title>4d5h&#45;&gt;5d10h</title>\r\n<path fill=\"none\" stroke=\"black\" d=\"M1090.21,-533.868C1078.24,-524.658 1064.6,-514.154 1052.03,-504.472\"/>\r\n<polygon fill=\"black\" stroke=\"black\" points=\"1054,-501.577 1043.95,-498.25 1049.73,-507.124 1054,-501.577\"/>\r\n</g>\r\n<!-- 5d11h -->\r\n<g id=\"node15\" class=\"node\"><title>5d11h</title>\r\n<polygon fill=\"none\" stroke=\"blue\" points=\"1335,-498 1138,-498 1138,-445 1335,-445 1335,-498\"/>\r\n<text text-anchor=\"middle\" x=\"1236.5\" y=\"-482.8\" font-family=\"Times New Roman,serif\" font-size=\"14.00\">leaf, impurity 0.00</text>\r\n<text text-anchor=\"middle\" x=\"1236.5\" y=\"-467.8\" font-family=\"Times New Roman,serif\" font-size=\"14.00\">depth 5, hindex 11, nsamples 10</text>\r\n<text text-anchor=\"middle\" x=\"1236.5\" y=\"-452.8\" font-family=\"Times New Roman,serif\" font-size=\"14.00\">class Male 100.00%</text>\r\n</g>\r\n<!-- 4d5h&#45;&gt;5d11h -->\r\n<g id=\"edge14\" class=\"edge\"><title>4d5h&#45;&gt;5d11h</title>\r\n<path fill=\"none\" stroke=\"black\" d=\"M1156.79,-533.868C1168.76,-524.658 1182.4,-514.154 1194.97,-504.472\"/>\r\n<polygon fill=\"black\" stroke=\"black\" points=\"1197.27,-507.124 1203.05,-498.25 1193,-501.577 1197.27,-507.124\"/>\r\n</g>\r\n<!-- 6d20h -->\r\n<g id=\"node16\" class=\"node\"><title>6d20h</title>\r\n<polygon fill=\"none\" stroke=\"blue\" points=\"1007,-409 788,-409 788,-356 1007,-356 1007,-409\"/>\r\n<text text-anchor=\"middle\" x=\"897.5\" y=\"-393.8\" font-family=\"Times New Roman,serif\" font-size=\"14.00\">weight &#45; 168.86, impurity 0.43</text>\r\n<text text-anchor=\"middle\" x=\"897.5\" y=\"-378.8\" font-family=\"Times New Roman,serif\" font-size=\"14.00\">depth 6, hindex 20, nsamples 147</text>\r\n<text text-anchor=\"middle\" x=\"897.5\" y=\"-363.8\" font-family=\"Times New Roman,serif\" font-size=\"14.00\">class Male 51.70% impr decr 2.45%</text>\r\n</g>\r\n<!-- 5d10h&#45;&gt;6d20h -->\r\n<g id=\"edge15\" class=\"edge\"><title>5d10h&#45;&gt;6d20h</title>\r\n<path fill=\"none\" stroke=\"black\" d=\"M977.207,-444.868C965.245,-435.658 951.603,-425.154 939.027,-415.472\"/>\r\n<polygon fill=\"black\" stroke=\"black\" points=\"941.004,-412.577 930.945,-409.25 936.734,-418.124 941.004,-412.577\"/>\r\n</g>\r\n<!-- 6d21h -->\r\n<g id=\"node17\" class=\"node\"><title>6d21h</title>\r\n<polygon fill=\"none\" stroke=\"blue\" points=\"1222,-409 1025,-409 1025,-356 1222,-356 1222,-409\"/>\r\n<text text-anchor=\"middle\" x=\"1123.5\" y=\"-393.8\" font-family=\"Times New Roman,serif\" font-size=\"14.00\">leaf, impurity 0.03</text>\r\n<text text-anchor=\"middle\" x=\"1123.5\" y=\"-378.8\" font-family=\"Times New Roman,serif\" font-size=\"14.00\">depth 6, hindex 21, nsamples 22</text>\r\n<text text-anchor=\"middle\" x=\"1123.5\" y=\"-363.8\" font-family=\"Times New Roman,serif\" font-size=\"14.00\">class Male 86.36%</text>\r\n</g>\r\n<!-- 5d10h&#45;&gt;6d21h -->\r\n<g id=\"edge16\" class=\"edge\"><title>5d10h&#45;&gt;6d21h</title>\r\n<path fill=\"none\" stroke=\"black\" d=\"M1043.79,-444.868C1055.76,-435.658 1069.4,-425.154 1081.97,-415.472\"/>\r\n<polygon fill=\"black\" stroke=\"black\" points=\"1084.27,-418.124 1090.05,-409.25 1080,-412.577 1084.27,-418.124\"/>\r\n</g>\r\n<!-- 7d40h -->\r\n<g id=\"node18\" class=\"node\"><title>7d40h</title>\r\n<polygon fill=\"none\" stroke=\"red\" points=\"791.5,-320 559.5,-320 559.5,-267 791.5,-267 791.5,-320\"/>\r\n<text text-anchor=\"middle\" x=\"675.5\" y=\"-304.8\" font-family=\"Times New Roman,serif\" font-size=\"14.00\">weight &#45; 161.57, impurity 0.36</text>\r\n<text text-anchor=\"middle\" x=\"675.5\" y=\"-289.8\" font-family=\"Times New Roman,serif\" font-size=\"14.00\">depth 7, hindex 40, nsamples 111</text>\r\n<text text-anchor=\"middle\" x=\"675.5\" y=\"-274.8\" font-family=\"Times New Roman,serif\" font-size=\"14.00\">class Female 60.36% impr decr 2.03%</text>\r\n</g>\r\n<!-- 6d20h&#45;&gt;7d40h -->\r\n<g id=\"edge17\" class=\"edge\"><title>6d20h&#45;&gt;7d40h</title>\r\n<path fill=\"none\" stroke=\"black\" d=\"M832.393,-355.985C806.641,-345.893 776.889,-334.233 750.262,-323.798\"/>\r\n<polygon fill=\"black\" stroke=\"black\" points=\"751.194,-320.405 740.606,-320.015 748.64,-326.922 751.194,-320.405\"/>\r\n</g>\r\n<!-- 7d41h -->\r\n<g id=\"node19\" class=\"node\"><title>7d41h</title>\r\n<polygon fill=\"none\" stroke=\"blue\" points=\"1129,-320 910,-320 910,-267 1129,-267 1129,-320\"/>\r\n<text text-anchor=\"middle\" x=\"1019.5\" y=\"-304.8\" font-family=\"Times New Roman,serif\" font-size=\"14.00\">weight &#45; 172.41, impurity 0.05</text>\r\n<text text-anchor=\"middle\" x=\"1019.5\" y=\"-289.8\" font-family=\"Times New Roman,serif\" font-size=\"14.00\">depth 7, hindex 41, nsamples 36</text>\r\n<text text-anchor=\"middle\" x=\"1019.5\" y=\"-274.8\" font-family=\"Times New Roman,serif\" font-size=\"14.00\">class Male 88.89% impr decr 0.34%</text>\r\n</g>\r\n<!-- 6d20h&#45;&gt;7d41h -->\r\n<g id=\"edge18\" class=\"edge\"><title>6d20h&#45;&gt;7d41h</title>\r\n<path fill=\"none\" stroke=\"black\" d=\"M933.444,-355.868C946.482,-346.57 961.369,-335.954 975.053,-326.196\"/>\r\n<polygon fill=\"black\" stroke=\"black\" points=\"977.281,-328.906 983.391,-320.25 973.217,-323.206 977.281,-328.906\"/>\r\n</g>\r\n<!-- 8d80h -->\r\n<g id=\"node20\" class=\"node\"><title>8d80h</title>\r\n<polygon fill=\"none\" stroke=\"red\" points=\"447.5,-231 215.5,-231 215.5,-178 447.5,-178 447.5,-231\"/>\r\n<text text-anchor=\"middle\" x=\"331.5\" y=\"-215.8\" font-family=\"Times New Roman,serif\" font-size=\"14.00\">height &#45; 63.58, impurity 0.29</text>\r\n<text text-anchor=\"middle\" x=\"331.5\" y=\"-200.8\" font-family=\"Times New Roman,serif\" font-size=\"14.00\">depth 8, hindex 80, nsamples 83</text>\r\n<text text-anchor=\"middle\" x=\"331.5\" y=\"-185.8\" font-family=\"Times New Roman,serif\" font-size=\"14.00\">class Female 73.49% impr decr 0.53%</text>\r\n</g>\r\n<!-- 7d40h&#45;&gt;8d80h -->\r\n<g id=\"edge19\" class=\"edge\"><title>7d40h&#45;&gt;8d80h</title>\r\n<path fill=\"none\" stroke=\"black\" d=\"M574.613,-266.985C533.046,-256.472 484.754,-244.259 442.215,-233.501\"/>\r\n<polygon fill=\"black\" stroke=\"black\" points=\"442.938,-230.073 432.385,-231.015 441.222,-236.86 442.938,-230.073\"/>\r\n</g>\r\n<!-- 8d81h -->\r\n<g id=\"node21\" class=\"node\"><title>8d81h</title>\r\n<polygon fill=\"none\" stroke=\"blue\" points=\"785,-231 566,-231 566,-178 785,-178 785,-231\"/>\r\n<text text-anchor=\"middle\" x=\"675.5\" y=\"-215.8\" font-family=\"Times New Roman,serif\" font-size=\"14.00\">weight &#45; 166.92, impurity 0.08</text>\r\n<text text-anchor=\"middle\" x=\"675.5\" y=\"-200.8\" font-family=\"Times New Roman,serif\" font-size=\"14.00\">depth 8, hindex 81, nsamples 28</text>\r\n<text text-anchor=\"middle\" x=\"675.5\" y=\"-185.8\" font-family=\"Times New Roman,serif\" font-size=\"14.00\">class Male 78.57% impr decr 0.29%</text>\r\n</g>\r\n<!-- 7d40h&#45;&gt;8d81h -->\r\n<g id=\"edge20\" class=\"edge\"><title>7d40h&#45;&gt;8d81h</title>\r\n<path fill=\"none\" stroke=\"black\" d=\"M675.5,-266.868C675.5,-258.886 675.5,-249.932 675.5,-241.384\"/>\r\n<polygon fill=\"black\" stroke=\"black\" points=\"679,-241.25 675.5,-231.25 672,-241.25 679,-241.25\"/>\r\n</g>\r\n<!-- 8d82h -->\r\n<g id=\"node30\" class=\"node\"><title>8d82h</title>\r\n<polygon fill=\"none\" stroke=\"blue\" points=\"1129,-231 910,-231 910,-178 1129,-178 1129,-231\"/>\r\n<text text-anchor=\"middle\" x=\"1019.5\" y=\"-215.8\" font-family=\"Times New Roman,serif\" font-size=\"14.00\">weight &#45; 171.06, impurity 0.18</text>\r\n<text text-anchor=\"middle\" x=\"1019.5\" y=\"-200.8\" font-family=\"Times New Roman,serif\" font-size=\"14.00\">depth 8, hindex 82, nsamples 22</text>\r\n<text text-anchor=\"middle\" x=\"1019.5\" y=\"-185.8\" font-family=\"Times New Roman,serif\" font-size=\"14.00\">class Male 81.82% impr decr 0.43%</text>\r\n</g>\r\n<!-- 7d41h&#45;&gt;8d82h -->\r\n<g id=\"edge29\" class=\"edge\"><title>7d41h&#45;&gt;8d82h</title>\r\n<path fill=\"none\" stroke=\"black\" d=\"M1019.5,-266.868C1019.5,-258.886 1019.5,-249.932 1019.5,-241.384\"/>\r\n<polygon fill=\"black\" stroke=\"black\" points=\"1023,-241.25 1019.5,-231.25 1016,-241.25 1023,-241.25\"/>\r\n</g>\r\n<!-- 8d83h -->\r\n<g id=\"node31\" class=\"node\"><title>8d83h</title>\r\n<polygon fill=\"none\" stroke=\"blue\" points=\"1344,-231 1147,-231 1147,-178 1344,-178 1344,-231\"/>\r\n<text text-anchor=\"middle\" x=\"1245.5\" y=\"-215.8\" font-family=\"Times New Roman,serif\" font-size=\"14.00\">leaf, impurity 0.00</text>\r\n<text text-anchor=\"middle\" x=\"1245.5\" y=\"-200.8\" font-family=\"Times New Roman,serif\" font-size=\"14.00\">depth 8, hindex 83, nsamples 14</text>\r\n<text text-anchor=\"middle\" x=\"1245.5\" y=\"-185.8\" font-family=\"Times New Roman,serif\" font-size=\"14.00\">class Male 100.00%</text>\r\n</g>\r\n<!-- 7d41h&#45;&gt;8d83h -->\r\n<g id=\"edge30\" class=\"edge\"><title>7d41h&#45;&gt;8d83h</title>\r\n<path fill=\"none\" stroke=\"black\" d=\"M1085.78,-266.985C1112.11,-256.849 1142.55,-245.131 1169.75,-234.661\"/>\r\n<polygon fill=\"black\" stroke=\"black\" points=\"1171.15,-237.874 1179.22,-231.015 1168.63,-231.341 1171.15,-237.874\"/>\r\n</g>\r\n<!-- 9d160h -->\r\n<g id=\"node22\" class=\"node\"><title>9d160h</title>\r\n<polygon fill=\"none\" stroke=\"blue\" points=\"197,-142 -1.42109e-014,-142 -1.42109e-014,-89 197,-89 197,-142\"/>\r\n<text text-anchor=\"middle\" x=\"98.5\" y=\"-126.8\" font-family=\"Times New Roman,serif\" font-size=\"14.00\">leaf, impurity 0.03</text>\r\n<text text-anchor=\"middle\" x=\"98.5\" y=\"-111.8\" font-family=\"Times New Roman,serif\" font-size=\"14.00\">depth 9, hindex 160, nsamples 5</text>\r\n<text text-anchor=\"middle\" x=\"98.5\" y=\"-96.8\" font-family=\"Times New Roman,serif\" font-size=\"14.00\">class Male 60.00%</text>\r\n</g>\r\n<!-- 8d80h&#45;&gt;9d160h -->\r\n<g id=\"edge21\" class=\"edge\"><title>8d80h&#45;&gt;9d160h</title>\r\n<path fill=\"none\" stroke=\"black\" d=\"M263.167,-177.985C235.901,-167.804 204.364,-156.029 176.231,-145.524\"/>\r\n<polygon fill=\"black\" stroke=\"black\" points=\"177.425,-142.234 166.832,-142.015 174.976,-148.792 177.425,-142.234\"/>\r\n</g>\r\n<!-- 9d161h -->\r\n<g id=\"node23\" class=\"node\"><title>9d161h</title>\r\n<polygon fill=\"none\" stroke=\"red\" points=\"447.5,-142 215.5,-142 215.5,-89 447.5,-89 447.5,-142\"/>\r\n<text text-anchor=\"middle\" x=\"331.5\" y=\"-126.8\" font-family=\"Times New Roman,serif\" font-size=\"14.00\">height &#45; 65.85, impurity 0.35</text>\r\n<text text-anchor=\"middle\" x=\"331.5\" y=\"-111.8\" font-family=\"Times New Roman,serif\" font-size=\"14.00\">depth 9, hindex 161, nsamples 78</text>\r\n<text text-anchor=\"middle\" x=\"331.5\" y=\"-96.8\" font-family=\"Times New Roman,serif\" font-size=\"14.00\">class Female 75.64% impr decr 1.68%</text>\r\n</g>\r\n<!-- 8d80h&#45;&gt;9d161h -->\r\n<g id=\"edge22\" class=\"edge\"><title>8d80h&#45;&gt;9d161h</title>\r\n<path fill=\"none\" stroke=\"black\" d=\"M331.5,-177.868C331.5,-169.886 331.5,-160.932 331.5,-152.384\"/>\r\n<polygon fill=\"black\" stroke=\"black\" points=\"335,-152.25 331.5,-142.25 328,-152.25 335,-152.25\"/>\r\n</g>\r\n<!-- 9d162h -->\r\n<g id=\"node26\" class=\"node\"><title>9d162h</title>\r\n<polygon fill=\"none\" stroke=\"blue\" points=\"685,-142 466,-142 466,-89 685,-89 685,-142\"/>\r\n<text text-anchor=\"middle\" x=\"575.5\" y=\"-126.8\" font-family=\"Times New Roman,serif\" font-size=\"14.00\">weight &#45; 164.52, impurity 0.31</text>\r\n<text text-anchor=\"middle\" x=\"575.5\" y=\"-111.8\" font-family=\"Times New Roman,serif\" font-size=\"14.00\">depth 9, hindex 162, nsamples 21</text>\r\n<text text-anchor=\"middle\" x=\"575.5\" y=\"-96.8\" font-family=\"Times New Roman,serif\" font-size=\"14.00\">class Male 71.43% impr decr 0.44%</text>\r\n</g>\r\n<!-- 8d81h&#45;&gt;9d162h -->\r\n<g id=\"edge25\" class=\"edge\"><title>8d81h&#45;&gt;9d162h</title>\r\n<path fill=\"none\" stroke=\"black\" d=\"M646.038,-177.868C635.653,-168.833 623.838,-158.554 612.886,-149.026\"/>\r\n<polygon fill=\"black\" stroke=\"black\" points=\"614.939,-146.173 605.097,-142.25 610.345,-151.454 614.939,-146.173\"/>\r\n</g>\r\n<!-- 9d163h -->\r\n<g id=\"node27\" class=\"node\"><title>9d163h</title>\r\n<polygon fill=\"none\" stroke=\"blue\" points=\"900,-142 703,-142 703,-89 900,-89 900,-142\"/>\r\n<text text-anchor=\"middle\" x=\"801.5\" y=\"-126.8\" font-family=\"Times New Roman,serif\" font-size=\"14.00\">leaf, impurity 0.00</text>\r\n<text text-anchor=\"middle\" x=\"801.5\" y=\"-111.8\" font-family=\"Times New Roman,serif\" font-size=\"14.00\">depth 9, hindex 163, nsamples 7</text>\r\n<text text-anchor=\"middle\" x=\"801.5\" y=\"-96.8\" font-family=\"Times New Roman,serif\" font-size=\"14.00\">class Male 100.00%</text>\r\n</g>\r\n<!-- 8d81h&#45;&gt;9d163h -->\r\n<g id=\"edge26\" class=\"edge\"><title>8d81h&#45;&gt;9d163h</title>\r\n<path fill=\"none\" stroke=\"black\" d=\"M712.623,-177.868C726.088,-168.57 741.463,-157.954 755.596,-148.196\"/>\r\n<polygon fill=\"black\" stroke=\"black\" points=\"757.967,-150.812 764.207,-142.25 753.99,-145.052 757.967,-150.812\"/>\r\n</g>\r\n<!-- 10d322h -->\r\n<g id=\"node24\" class=\"node\"><title>10d322h</title>\r\n<polygon fill=\"none\" stroke=\"red\" points=\"212.5,-53 2.5,-53 2.5,-0 212.5,-0 212.5,-53\"/>\r\n<text text-anchor=\"middle\" x=\"107.5\" y=\"-37.8\" font-family=\"Times New Roman,serif\" font-size=\"14.00\">leaf, impurity 0.21</text>\r\n<text text-anchor=\"middle\" x=\"107.5\" y=\"-22.8\" font-family=\"Times New Roman,serif\" font-size=\"14.00\">depth 10, hindex 322, nsamples 34</text>\r\n<text text-anchor=\"middle\" x=\"107.5\" y=\"-7.8\" font-family=\"Times New Roman,serif\" font-size=\"14.00\">class Female 55.88%</text>\r\n</g>\r\n<!-- 9d161h&#45;&gt;10d322h -->\r\n<g id=\"edge23\" class=\"edge\"><title>9d161h&#45;&gt;10d322h</title>\r\n<path fill=\"none\" stroke=\"black\" d=\"M265.806,-88.985C239.708,-78.8487 209.539,-67.131 182.582,-56.6612\"/>\r\n<polygon fill=\"black\" stroke=\"black\" points=\"183.781,-53.3725 173.193,-53.0146 181.247,-59.8976 183.781,-53.3725\"/>\r\n</g>\r\n<!-- 10d323h -->\r\n<g id=\"node25\" class=\"node\"><title>10d323h</title>\r\n<polygon fill=\"none\" stroke=\"red\" points=\"440.5,-53 230.5,-53 230.5,-0 440.5,-0 440.5,-53\"/>\r\n<text text-anchor=\"middle\" x=\"335.5\" y=\"-37.8\" font-family=\"Times New Roman,serif\" font-size=\"14.00\">leaf, impurity 0.09</text>\r\n<text text-anchor=\"middle\" x=\"335.5\" y=\"-22.8\" font-family=\"Times New Roman,serif\" font-size=\"14.00\">depth 10, hindex 323, nsamples 44</text>\r\n<text text-anchor=\"middle\" x=\"335.5\" y=\"-7.8\" font-family=\"Times New Roman,serif\" font-size=\"14.00\">class Female 90.91%</text>\r\n</g>\r\n<!-- 9d161h&#45;&gt;10d323h -->\r\n<g id=\"edge24\" class=\"edge\"><title>9d161h&#45;&gt;10d323h</title>\r\n<path fill=\"none\" stroke=\"black\" d=\"M332.678,-88.8677C333.045,-80.8856 333.457,-71.9321 333.85,-63.3836\"/>\r\n<polygon fill=\"black\" stroke=\"black\" points=\"337.353,-63.4 334.316,-53.2497 330.36,-63.0784 337.353,-63.4\"/>\r\n</g>\r\n<!-- 10d324h -->\r\n<g id=\"node28\" class=\"node\"><title>10d324h</title>\r\n<polygon fill=\"none\" stroke=\"blue\" points=\"676.5,-53 466.5,-53 466.5,-0 676.5,-0 676.5,-53\"/>\r\n<text text-anchor=\"middle\" x=\"571.5\" y=\"-37.8\" font-family=\"Times New Roman,serif\" font-size=\"14.00\">leaf, impurity 0.31</text>\r\n<text text-anchor=\"middle\" x=\"571.5\" y=\"-22.8\" font-family=\"Times New Roman,serif\" font-size=\"14.00\">depth 10, hindex 324, nsamples 14</text>\r\n<text text-anchor=\"middle\" x=\"571.5\" y=\"-7.8\" font-family=\"Times New Roman,serif\" font-size=\"14.00\">class Male 64.29%</text>\r\n</g>\r\n<!-- 9d162h&#45;&gt;10d324h -->\r\n<g id=\"edge27\" class=\"edge\"><title>9d162h&#45;&gt;10d324h</title>\r\n<path fill=\"none\" stroke=\"black\" d=\"M574.322,-88.8677C573.955,-80.8856 573.543,-71.9321 573.15,-63.3836\"/>\r\n<polygon fill=\"black\" stroke=\"black\" points=\"576.64,-63.0784 572.684,-53.2497 569.647,-63.4 576.64,-63.0784\"/>\r\n</g>\r\n<!-- 10d325h -->\r\n<g id=\"node29\" class=\"node\"><title>10d325h</title>\r\n<polygon fill=\"none\" stroke=\"blue\" points=\"898,-53 695,-53 695,-0 898,-0 898,-53\"/>\r\n<text text-anchor=\"middle\" x=\"796.5\" y=\"-37.8\" font-family=\"Times New Roman,serif\" font-size=\"14.00\">leaf, impurity 0.08</text>\r\n<text text-anchor=\"middle\" x=\"796.5\" y=\"-22.8\" font-family=\"Times New Roman,serif\" font-size=\"14.00\">depth 10, hindex 325, nsamples 7</text>\r\n<text text-anchor=\"middle\" x=\"796.5\" y=\"-7.8\" font-family=\"Times New Roman,serif\" font-size=\"14.00\">class Male 85.71%</text>\r\n</g>\r\n<!-- 9d162h&#45;&gt;10d325h -->\r\n<g id=\"edge28\" class=\"edge\"><title>9d162h&#45;&gt;10d325h</title>\r\n<path fill=\"none\" stroke=\"black\" d=\"M640.314,-88.985C665.95,-78.8929 695.568,-67.2333 722.075,-56.7984\"/>\r\n<polygon fill=\"black\" stroke=\"black\" points=\"723.664,-59.9344 731.687,-53.0146 721.1,-53.4209 723.664,-59.9344\"/>\r\n</g>\r\n<!-- 9d164h -->\r\n<g id=\"node32\" class=\"node\"><title>9d164h</title>\r\n<polygon fill=\"none\" stroke=\"blue\" points=\"1121,-142 918,-142 918,-89 1121,-89 1121,-142\"/>\r\n<text text-anchor=\"middle\" x=\"1019.5\" y=\"-126.8\" font-family=\"Times New Roman,serif\" font-size=\"14.00\">leaf, impurity 0.15</text>\r\n<text text-anchor=\"middle\" x=\"1019.5\" y=\"-111.8\" font-family=\"Times New Roman,serif\" font-size=\"14.00\">depth 9, hindex 164, nsamples 13</text>\r\n<text text-anchor=\"middle\" x=\"1019.5\" y=\"-96.8\" font-family=\"Times New Roman,serif\" font-size=\"14.00\">class Male 84.62%</text>\r\n</g>\r\n<!-- 8d82h&#45;&gt;9d164h -->\r\n<g id=\"edge31\" class=\"edge\"><title>8d82h&#45;&gt;9d164h</title>\r\n<path fill=\"none\" stroke=\"black\" d=\"M1019.5,-177.868C1019.5,-169.886 1019.5,-160.932 1019.5,-152.384\"/>\r\n<polygon fill=\"black\" stroke=\"black\" points=\"1023,-152.25 1019.5,-142.25 1016,-152.25 1023,-152.25\"/>\r\n</g>\r\n<!-- 9d165h -->\r\n<g id=\"node33\" class=\"node\"><title>9d165h</title>\r\n<polygon fill=\"none\" stroke=\"blue\" points=\"1336,-142 1139,-142 1139,-89 1336,-89 1336,-142\"/>\r\n<text text-anchor=\"middle\" x=\"1237.5\" y=\"-126.8\" font-family=\"Times New Roman,serif\" font-size=\"14.00\">leaf, impurity 0.14</text>\r\n<text text-anchor=\"middle\" x=\"1237.5\" y=\"-111.8\" font-family=\"Times New Roman,serif\" font-size=\"14.00\">depth 9, hindex 165, nsamples 9</text>\r\n<text text-anchor=\"middle\" x=\"1237.5\" y=\"-96.8\" font-family=\"Times New Roman,serif\" font-size=\"14.00\">class Male 77.78%</text>\r\n</g>\r\n<!-- 8d82h&#45;&gt;9d165h -->\r\n<g id=\"edge32\" class=\"edge\"><title>8d82h&#45;&gt;9d165h</title>\r\n<path fill=\"none\" stroke=\"black\" d=\"M1083.43,-177.985C1108.72,-167.893 1137.94,-156.233 1164.09,-145.798\"/>\r\n<polygon fill=\"black\" stroke=\"black\" points=\"1165.58,-148.972 1173.57,-142.015 1162.98,-142.47 1165.58,-148.972\"/>\r\n</g>\r\n</g>\r\n</svg>\r\n"
     },
     "metadata": {},
     "execution_count": 13
    }
   ],
   "source": [
    "%%time\n",
    "model = CustomDecisionTreeClassifier(max_depth=10, debug=False, criterion='gini', random_state=1, splitter='random', min_impurity_decrease=0.002, min_samples_split=10, min_samples_leaf=4)\n",
    "model.fit(features_train.values, target_train.values)\n",
    "test_model(model)\n",
    "visualize_tree(model)"
   ]
  },
  {
   "source": [
    "# RandomForestClassifier"
   ],
   "cell_type": "markdown",
   "metadata": {}
  },
  {
   "cell_type": "code",
   "execution_count": 66,
   "metadata": {},
   "outputs": [
    {
     "output_type": "stream",
     "name": "stdout",
     "text": [
      "train score = 0.928, valid score f1 = 0.922, depth 10, name RandomForestClassifier\n"
     ]
    }
   ],
   "source": [
    "from random_forest import RandomForestClassifier as CustomRandomForestClassifier\n",
    "\n",
    "model = CustomRandomForestClassifier(n_estimators=20, max_features='max', max_depth=10, random_state=1, min_impurity_decrease=0.002, min_samples_split=7, min_samples_leaf=4)\n",
    "\n",
    "model.fit(features_train.values, target_train.values)\n",
    "test_model(model)"
   ]
  },
  {
   "source": [
    "## LogisticRegression\n",
    "\n",
    "0. Should we scale data before?\n",
    "1. Calculate loss properly\n",
    "2. Multiclass \n",
    "3. Tolerance for stopping"
   ],
   "cell_type": "markdown",
   "metadata": {}
  },
  {
   "cell_type": "code",
   "execution_count": 9,
   "metadata": {
    "tags": []
   },
   "outputs": [
    {
     "output_type": "stream",
     "name": "stdout",
     "text": [
      "train score = 0.925, valid score f1 = 0.939, depth None, name LogisticRegression\nWall time: 1.52 s\n"
     ]
    },
    {
     "output_type": "execute_result",
     "data": {
      "text/plain": [
       "999"
      ]
     },
     "metadata": {},
     "execution_count": 9
    }
   ],
   "source": [
    "%%time\n",
    "from logistic_regression import LogisticRegression as CustomLogisticRegression\n",
    "\n",
    "model = CustomLogisticRegression(random_state=1, learning_rate=0.1, max_iters=1000, verbose=False)\n",
    "model.fit(features_train.values, target_train.values)\n",
    "test_model(model)\n",
    "model.get_current_iterations()\n"
   ]
  },
  {
   "source": [
    "## Compare with sklearn implementations"
   ],
   "cell_type": "markdown",
   "metadata": {}
  },
  {
   "cell_type": "code",
   "execution_count": 7,
   "metadata": {},
   "outputs": [
    {
     "output_type": "stream",
     "name": "stdout",
     "text": [
      "train score = 0.921, valid score f1 = 0.908, depth 4, name DecisionTreeClassifier\n",
      "train score = 0.940, valid score f1 = 0.900, depth None, name RandomForestClassifier\n",
      "train score = 0.937, valid score f1 = 0.923, depth None, name LogisticRegression\n",
      "dummy score 0.504\n",
      "Wall time: 129 ms\n"
     ]
    }
   ],
   "source": [
    "%%time\n",
    "\n",
    "model = DecisionTreeClassifier(max_depth=None, splitter='random', random_state=1, min_impurity_decrease=0.005, min_samples_split=10, min_samples_leaf=4)\n",
    "model.fit(features_train, target_train)\n",
    "\n",
    "test_model(model)\n",
    "\n",
    "model = RandomForestClassifier(n_estimators=10, max_depth=6, random_state=1, min_impurity_decrease=0.005, min_samples_split=10, min_samples_leaf=4)\n",
    "model.fit(features_train, target_train)\n",
    "\n",
    "test_model(model)\n",
    "\n",
    "model = LogisticRegression(penalty='l2', C=1, max_iter=100, random_state=1)\n",
    "model.fit(features_train, target_train)\n",
    "test_model(model)\n",
    "\n",
    "dummy_classifier = DummyClassifier(random_state=1)\n",
    "dummy_classifier.fit(features_train, target_train)\n",
    "print(f'dummy score {f1_score(target_valid, dummy_classifier.predict(features_valid)):0.3f}')"
   ]
  }
 ]
}